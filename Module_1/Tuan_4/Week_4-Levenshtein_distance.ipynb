{
 "cells": [
  {
   "cell_type": "markdown",
   "id": "040b187d",
   "metadata": {},
   "source": [
    "### II. Câu hỏi trắc nghiệm"
   ]
  },
  {
   "cell_type": "code",
   "execution_count": 4,
   "id": "b2466bb5",
   "metadata": {},
   "outputs": [
    {
     "name": "stdout",
     "output_type": "stream",
     "text": [
      "Levenshtein distance between 'elmets' and 'elements' is 2\n"
     ]
    }
   ],
   "source": [
    "# Câu 5 - 1\n",
    "def levenshtein_distance(token1, token2):\n",
    "    distances = [[0]*(len(token2)+1) for _ in range(len(token1)+1)]\n",
    "\n",
    "    for t1 in range(len(token1)+1):\n",
    "        distances[0][t1] = t1\n",
    "\n",
    "    for t2 in range(len(token2)+1):\n",
    "        distances[0][t2] = t2\n",
    "\n",
    "    a = 0\n",
    "    b = 0\n",
    "    c = 0\n",
    "\n",
    "    for t1 in range(1, len(token1)+1):\n",
    "        for t2 in range(1, len(token2)+1):\n",
    "            if (token1[t1-1] == token2[t2-1]):\n",
    "                distances[t1][t2] = distances[t1-1][t2-1]\n",
    "            else:\n",
    "                a = distances[t1][t2-1]\n",
    "                b = distances[t1-1][t2]\n",
    "                c = distances[t1-1][t2-1]\n",
    "\n",
    "                if (a <= b and a <= c):\n",
    "                    distances[t1][t2] = a + 1\n",
    "                elif (b <= a and b <= c):\n",
    "                    distances[t1][t2] = b + 1\n",
    "                else:\n",
    "                    distances[t1][t2] = c + 1\n",
    "\n",
    "    return distances[len(token1)][len(token2)]\n",
    "\n",
    "distance = levenshtein_distance('elmets', 'elements')\n",
    "print(f\"Levenshtein distance between '{s1}' and '{s2}' is {distance}\")"
   ]
  },
  {
   "cell_type": "code",
   "execution_count": 5,
   "id": "2b235234",
   "metadata": {},
   "outputs": [
    {
     "name": "stdout",
     "output_type": "stream",
     "text": [
      "Levenshtein distance between 'elmets' and 'elements' is 2\n"
     ]
    }
   ],
   "source": [
    "# Câu 5 - 2\n",
    "def levenshtein_distance(s, t):\n",
    "    m, n = len(s), len(t)\n",
    "    # Tạo ma trận\n",
    "    matrix = [[0] * (n + 1) for _ in range(m + 1)]\n",
    "\n",
    "    # Khởi tạo ma trận\n",
    "    for i in range(m + 1):\n",
    "        matrix[i][0] = i\n",
    "    for j in range(n + 1):\n",
    "        matrix[0][j] = j\n",
    "\n",
    "    # Tính khoảng cách Levenshtein\n",
    "    for i in range(1, m + 1):\n",
    "        for j in range(1, n + 1):\n",
    "            cost = 0 if s[i - 1] == t[j - 1] else 1\n",
    "            matrix[i][j] = min(matrix[i - 1][j] + 1,\n",
    "                           matrix[i][j - 1] + 1,\n",
    "                           matrix[i - 1][j - 1] + cost)\n",
    "\n",
    "    # The distance is the number in the bottom-right cell of the matrix\n",
    "    return matrix[m][n]\n",
    "\n",
    "# Example usage\n",
    "s1 = \"elmets\"\n",
    "s2 = \"elements\"\n",
    "print(f\"Levenshtein distance between '{s1}' and '{s2}' is {levenshtein_distance(s1, s2)}\")"
   ]
  },
  {
   "cell_type": "code",
   "execution_count": null,
   "id": "7a50ba60",
   "metadata": {},
   "outputs": [],
   "source": []
  }
 ],
 "metadata": {
  "kernelspec": {
   "display_name": "Python 3 (ipykernel)",
   "language": "python",
   "name": "python3"
  },
  "language_info": {
   "codemirror_mode": {
    "name": "ipython",
    "version": 3
   },
   "file_extension": ".py",
   "mimetype": "text/x-python",
   "name": "python",
   "nbconvert_exporter": "python",
   "pygments_lexer": "ipython3",
   "version": "3.11.4"
  }
 },
 "nbformat": 4,
 "nbformat_minor": 5
}
