{
 "cells": [
  {
   "cell_type": "markdown",
   "id": "ceea7417",
   "metadata": {
    "id": "ceea7417"
   },
   "source": [
    "# Basic Python"
   ]
  },
  {
   "cell_type": "markdown",
   "id": "23033893",
   "metadata": {
    "id": "23033893"
   },
   "source": [
    "### I. Câu hỏi tự luận"
   ]
  },
  {
   "cell_type": "code",
   "execution_count": 1,
   "id": "f9e865de",
   "metadata": {
    "executionInfo": {
     "elapsed": 7,
     "status": "ok",
     "timestamp": 1717564962348,
     "user": {
      "displayName": "Phuong Nguyen",
      "userId": "11974806599025701743"
     },
     "user_tz": -420
    },
    "id": "f9e865de"
   },
   "outputs": [],
   "source": [
    "import math\n",
    "import numpy as np"
   ]
  },
  {
   "cell_type": "code",
   "execution_count": 2,
   "id": "80c59fae",
   "metadata": {
    "colab": {
     "base_uri": "https://localhost:8080/"
    },
    "executionInfo": {
     "elapsed": 6,
     "status": "ok",
     "timestamp": 1717564962348,
     "user": {
      "displayName": "Phuong Nguyen",
      "userId": "11974806599025701743"
     },
     "user_tz": -420
    },
    "id": "80c59fae",
    "outputId": "f9cbb890-8efb-4157-e229-9097f51acc1f"
   },
   "outputs": [
    {
     "name": "stdout",
     "output_type": "stream",
     "text": [
      "Print single variable ( var1 ):  str_var1\n",
      "Print more than one variables : var1 =str_var1, var2 =3, var3 =15.5\n"
     ]
    }
   ],
   "source": [
    "var1 = 'str_var1'\n",
    "var2 = 3\n",
    "var3 = 15.5\n",
    "print ('Print single variable (var1): ', var1)\n",
    "print (f'Print more than one variables : var1 ={var1}, var2 ={var2}, var3 ={var3}')"
   ]
  },
  {
   "cell_type": "markdown",
   "id": "eaa672fd",
   "metadata": {
    "id": "eaa672fd"
   },
   "source": [
    "#### 1. Viết function thực hiện đánh giá classification model bằng F1-Score.\n",
    "+ Precision = TP / (TP + FP)\n",
    "+ Recall = TP / (TP + F N)\n",
    "+ F1-score = 2 ∗ ( (P recision ∗ Recall) / (Precision + Recall) )\n",
    "\n",
    "Input: function nhận 3 giá trị tp, fp, fn\n",
    "\n",
    "Output: print ra kết quả của Precision, Recall, và F1-score\n",
    "\n",
    "NOTE: Đề bài yêu cầu các điều kiện sau :\n",
    "+ Phải kiểm tra giá trị nhận vào tp, fp, fn là type int, nếu là type khác thì print ví dụ\n",
    "check fn là float, print ’fn must be int’ và thoát hàm hoặc dừng chương trình.\n",
    "+ Yêu cầu tp, fp, fn phải đều lớn hơn 0, nếu không thì print ’tp and fp and fn must be\n",
    "greater than zero’ và thoát hàm hoặc dừng chương trình"
   ]
  },
  {
   "cell_type": "code",
   "execution_count": 4,
   "id": "df4fe0e1",
   "metadata": {
    "colab": {
     "base_uri": "https://localhost:8080/"
    },
    "executionInfo": {
     "elapsed": 6,
     "status": "ok",
     "timestamp": 1717564962349,
     "user": {
      "displayName": "Phuong Nguyen",
      "userId": "11974806599025701743"
     },
     "user_tz": -420
    },
    "id": "df4fe0e1",
    "outputId": "a61cdff0-cdb8-4492-f9d7-693a82d8cea5"
   },
   "outputs": [
    {
     "name": "stdout",
     "output_type": "stream",
     "text": [
      "precision  0.4\n",
      "recall  0.3333333333333333\n",
      "f1_score  0.3636363636363636\n",
      "1:  0.3636363636363636\n",
      "tp must be int\n",
      "2:  None\n",
      "fp must be int\n",
      "3:  None\n",
      "fn must be int\n",
      "4:  None\n",
      "tp must be int\n",
      "5:  None\n",
      "tp and fp and fn must be greater than zero\n",
      "6:  None\n"
     ]
    }
   ],
   "source": [
    "def f1_score(tp, fp, fn):\n",
    "    if not isinstance(tp, int) or not isinstance(fp, int) or not isinstance(fn, int) :\n",
    "        if not isinstance(tp, int):\n",
    "            print('tp must be int')\n",
    "        if not isinstance(fp, int):\n",
    "            print('fp must be int')\n",
    "        if not isinstance(fn, int):\n",
    "            print('fn must be int')\n",
    "        return\n",
    "    if (tp <= 0) or (fp <= 0) or (fn <= 0):\n",
    "        print('tp and fp and fn must be greater than zero')\n",
    "        return\n",
    "    \n",
    "    precision = tp / (tp+fp)\n",
    "    recall = tp / (tp+fn)\n",
    "    f1_score = 2 * ((precision*recall) / (precision+recall))\n",
    "    \n",
    "    print('precision ', precision)\n",
    "    print('recall ', recall)\n",
    "    print('f1_score ', f1_score)\n",
    "\n",
    "print('1: ')\n",
    "f1_score(tp=2, fp=3, fn=4)\n",
    "print('2: ')\n",
    "f1_score(tp='a', fp=3, fn=4)\n",
    "print('3: ')\n",
    "f1_score(tp=2, fp='a', fn=4)\n",
    "print('4: ')\n",
    "f1_score(tp=2, fp=3, fn='a')\n",
    "print('5: ')\n",
    "f1_score(tp=2.1, fp=3, fn=0)\n",
    "print('6: ')\n",
    "f1_score(tp=2, fp=3, fn=0)"
   ]
  },
  {
   "cell_type": "markdown",
   "id": "6d23b1bb",
   "metadata": {
    "id": "6d23b1bb"
   },
   "source": [
    "#### 2. Viết function mô phỏng theo 3 activation function.\n",
    "\n",
    "![](2.png)\n",
    "\n",
    "Input:\n",
    "+ Người dùng nhập giá trị x\n",
    "+ Người dùng nhập tên activation function chỉ có 3 loại (sigmoid, relu, elu)\n",
    "\n",
    "Output: Kết quả f(x) (x khi đi qua actiavtion fucntion tương ứng theo activation function\n",
    "name). Ví dụ nhập x=3, activation_function = ’relu’. Output: print ’relu: f(3)=3’\n",
    "\n",
    "NOTE: Lưu ý các điều kiện sau:\n",
    "+ Dùng function is_number được cung cấp sẵn để kiểm tra x có hợp lệ hay không (vd:\n",
    "x=’10’, is_number(x) sẽ trả về True ngược lại là False). Nếu không hợp lệ print ’x must\n",
    "be a number’ và dừng chương trình.\n",
    "+ Kiểm tra activation function name có hợp lệ hay không nằm trong 3 tên (sigmoid,\n",
    "relu, elu). Nếu không print ’ten_function_user is not supported’ (vd người dùng\n",
    "nhập ’belu’ thì print ’belu is not supported’)\n",
    "+ Convert x sang float type\n",
    "+ Thực hiện theo công thức với activation name tương ứng. Print ra kết quả\n",
    "+ Dùng math.e để lấy số e\n",
    "+ α = 0.01"
   ]
  },
  {
   "cell_type": "code",
   "execution_count": 13,
   "id": "564e9b91",
   "metadata": {
    "colab": {
     "base_uri": "https://localhost:8080/"
    },
    "executionInfo": {
     "elapsed": 13492,
     "status": "ok",
     "timestamp": 1717564975836,
     "user": {
      "displayName": "Phuong Nguyen",
      "userId": "11974806599025701743"
     },
     "user_tz": -420
    },
    "id": "564e9b91",
    "outputId": "a425e617-84b4-402a-8b8c-607c5d4c2d03"
   },
   "outputs": [
    {
     "name": "stdout",
     "output_type": "stream",
     "text": [
      "Input x: 1.5\n",
      "Input activation Function ( sigmoid | relu |elu ): elu\n",
      "Result: 1.5\n"
     ]
    }
   ],
   "source": [
    "def is_number(x):\n",
    "    try:\n",
    "        return float(x)\n",
    "    except ValueError:\n",
    "        print (f'{x} must be a number')\n",
    "        return None\n",
    "\n",
    "def sigmoid(x):\n",
    "    return 1 / (1+math.exp(-x))\n",
    "\n",
    "def relu(x):\n",
    "    if x <= 0 :\n",
    "        return 0\n",
    "    else:\n",
    "        return x\n",
    "\n",
    "def elu(x, alpha=0.01):\n",
    "    if x <= 0 :\n",
    "        return alpha * (math.exp(x)-1)\n",
    "    else:\n",
    "        return x\n",
    "\n",
    "def activation(x, activation_func, alpha=0.01):\n",
    "    x = is_number(x)\n",
    "    if x is None:\n",
    "        return None\n",
    "\n",
    "    if activation_func == 'sigmoid':\n",
    "        return sigmoid(x)\n",
    "    elif activation_func == 'relu':\n",
    "        return relu(x)\n",
    "    elif activation_func == 'elu':\n",
    "        return elu(x)\n",
    "    else:\n",
    "        print(f'{activation_func} is not supported')\n",
    "\n",
    "alpha = 0.01\n",
    "x = input('Input x: ')\n",
    "action = input('Input activation Function ( sigmoid | relu | elu ): ')\n",
    "result = activation(x, action, alpha)\n",
    "\n",
    "if result is not None:\n",
    "    print(f'Result: {result}')"
   ]
  },
  {
   "cell_type": "markdown",
   "id": "a55fd574",
   "metadata": {
    "id": "a55fd574"
   },
   "source": [
    "#### 3. Viết function lựa chọn regression loss function để tính loss:\n",
    "![image.png](3.png)\n",
    "\n",
    "n chính là số lượng samples (num_samples), với i là mỗi sample cụ thể. Ở đây các bạn có thể hiểu là cứ mỗi i thì sẽ có 1 cặp yi là target và yˆ là predict.\n",
    "Input:\n",
    "+ Người dùng nhập số lượng sample (num_samples) được tạo ra (chỉ nhận integer numbers)\n",
    "+ Người dùng nhập loss name (MAE, MSE, RMSE-(optional)) chỉ cần MAE và MSE, bạn nào muốn làm thêm RMSE đều được.\n",
    "\n",
    "Output: Print ra loss name, sample, predict, target, loss\n",
    "+ loss name: là loss mà người dùng chọn\n",
    "+ sample: là thứ tự sample được tạo ra (ví dụ num_samples=5, thì sẽ có 5 samples và mỗi sample là sample-0, sample-1, sample-2, sample-3, sample-4)\n",
    "+  predict: là số mà model dự đoán (chỉ cần dùng random tạo random một số trong range [0,10))\n",
    "+ target: là số target mà momg muốn mode dự đoán đúng (chỉ cần dùng random tạo random một số trong range [0,10))\n",
    "+ loss: là kết quả khi đưa predict và target vào hàm loss\n",
    "+ note: ví dụ num_sample=5 thì sẽ có 5 cặp predict và target.\n",
    "\n",
    "Note: Các bạn lưu ý:\n",
    "+ Dùng .isnumeric() method để kiểm tra num_samples có hợp lệ hay không (vd: x=’10’, num_samples.isnumeric() sẽ trả về True ngược lại là False). Nếu không hợp lệ print ’number of samples must be an integer number’ và dừng chương trình.\n",
    "+ Dùng vòng lặp for, lặp lại num_samples lần. Mỗi lần dùng random modules tạo một con số ngẫu nhiên trong range [0.0, 10.0) cho predict và target. Sau đó đưa predict và target vào loss function và print ra kết quả mỗi lần lặp.\n",
    "+ Dùng random.uniform(0,10) để tạo ra một số ngẫu nhiên trong range [0,10)\n",
    "+ Giả xử người dùng luôn nhập đúng loss name MSE, MAE, và RMSE (đơn giảng bước này để các bạn không cần check tên hợp lệ)\n",
    "+ Dùng abs() để tính trị tuyệt đối ví dụ abs(-3) sẽ trả về 3\n",
    "+ Dùng math.sqrt() để tính căn bậc 2"
   ]
  },
  {
   "cell_type": "code",
   "execution_count": 24,
   "id": "74f3b9a8",
   "metadata": {
    "executionInfo": {
     "elapsed": 7,
     "status": "ok",
     "timestamp": 1717564975837,
     "user": {
      "displayName": "Phuong Nguyen",
      "userId": "11974806599025701743"
     },
     "user_tz": -420
    },
    "id": "74f3b9a8"
   },
   "outputs": [
    {
     "name": "stdout",
     "output_type": "stream",
     "text": [
      "Input num_samples =5\n",
      "Input loss name <MAE / MSE / RMSE>: RMSE\n",
      "loss name : RMSE, sample: 0, predicted sample: 8.618061137433058, target sample: 7.092913928656812, loss: 2.326074008437973\n",
      "loss name : RMSE, sample: 1, predicted sample: 4.968399473134928, target sample: 3.1029453492924697, loss: 3.4799190881608353\n",
      "loss name : RMSE, sample: 2, predicted sample: 6.366367957916087, target sample: 6.0601587780201545, loss: 0.09376406185253972\n",
      "loss name : RMSE, sample: 3, predicted sample: 4.409544175991343, target sample: 2.3351720663866127, loss: 4.303019649105979\n",
      "loss name : RMSE, sample: 4, predicted sample: 3.130977292696129, target sample: 4.469646760800732, loss: 1.7920359448354606\n",
      "Final RMSE:  1.5488584668970102\n"
     ]
    }
   ],
   "source": [
    "def calc_ae(y, y_hat):\n",
    "    result = abs(y-y_hat)\n",
    "    return result\n",
    "\n",
    "def calc_se(y, y_hat):\n",
    "    result = (y-y_hat)**2\n",
    "    return result\n",
    "\n",
    "def loss_func():\n",
    "    number = input('Input num_samples =')\n",
    "    if not number.isnumeric():\n",
    "        print('number of samples must be an integer number')\n",
    "        return\n",
    "    \n",
    "    number = int(number)\n",
    "    loss_name = input('Input loss name <MAE / MSE / RMSE>: ')\n",
    "\n",
    "    final_loss = 0\n",
    "    for i in range(number):\n",
    "        pre_sample = np.random.uniform(0,10)\n",
    "        target_sample = np.random.uniform(0,10)\n",
    "        \n",
    "        if loss_name == 'MAE':\n",
    "            loss = calc_ae(target_sample, pre_sample)\n",
    "        elif loss_name == 'MSE' or loss_name == 'RMSE':\n",
    "            loss = calc_se(target_sample, pre_sample)\n",
    "        \n",
    "        final_loss += loss\n",
    "        print(f'loss name : {loss_name}, sample: {i}, predicted sample: {pre_sample}, target sample: {target_sample}, loss: {loss}')\n",
    "    \n",
    "    final_loss /= number\n",
    "    if loss_name == 'RMSE':\n",
    "        final_loss = math.sqrt(final_loss)\n",
    "    print('Final RMSE: ', final_loss)\n",
    "\n",
    "loss_func()"
   ]
  },
  {
   "cell_type": "markdown",
   "id": "32441bd7",
   "metadata": {
    "executionInfo": {
     "elapsed": 6,
     "status": "ok",
     "timestamp": 1717564975837,
     "user": {
      "displayName": "Phuong Nguyen",
      "userId": "11974806599025701743"
     },
     "user_tz": -420
    },
    "id": "c76aff75"
   },
   "source": [
    "#### 4. Viết 4 functions để ước lượng các hàm số sau\n",
    "\n",
    "![](4.png)\n",
    "\n",
    "Input: x (số muốn tính toán) và n (số lần lặp muốn xấp xỉ)\n",
    "Output: Kết quả ước lượng hàm tương ứng với x. Ví dụ hàm cos(x=0) thì output = 1\n",
    "\n",
    "NOTE: Các bạn chú ý các điều kiện sau\n",
    "+ x là radian\n",
    "+ n là số nguyên dương > 0\n",
    "+ các bạn nên viết một hàm tính giai thừa riêng"
   ]
  },
  {
   "cell_type": "code",
   "execution_count": 5,
   "id": "6b95c7a1",
   "metadata": {},
   "outputs": [
    {
     "name": "stdout",
     "output_type": "stream",
     "text": [
      "approx_sin:  0.0015926529267151343\n",
      "approx_cos:  -0.9999987316527259\n",
      "approx_sinh:  11.53029203039954\n",
      "approx_cosh:  11.573574828234543\n"
     ]
    }
   ],
   "source": [
    "def factorial_fcn(x):\n",
    "    res = 1\n",
    "    for i in range(x):\n",
    "        res *= (i+1)\n",
    "    return res\n",
    "\n",
    "def approx_sin(x,n):\n",
    "    sin_approx = 0\n",
    "    for i in range(n+1):\n",
    "        coef = (-1) ** i\n",
    "        num = x ** (2*i+1)\n",
    "        denom = factorial_fcn(2*i+1)\n",
    "        sin_approx += coef * ((num)/(denom))\n",
    "    return sin_approx\n",
    "    \n",
    "def approx_cos(x, n):\n",
    "    cos_approx = 0\n",
    "    for i in range(n+1):\n",
    "        coef = (-1) ** i\n",
    "        num = x ** (2*i)\n",
    "        denom = factorial_fcn(2*i)\n",
    "        cos_approx += coef * (num/denom)\n",
    "    return cos_approx\n",
    "    \n",
    "def approx_sinh(x, n):\n",
    "    sinh_approx = 0\n",
    "    for i in range(n+1):\n",
    "        coef = 1\n",
    "        num = x ** (2*i+1)\n",
    "        denom = factorial_fcn(2*i+1)\n",
    "        sinh_approx += coef * (num/denom)\n",
    "    return sinh_approx\n",
    "\n",
    "def approx_cosh(x, n):\n",
    "    cosh_approx = 0\n",
    "    for i in range(n+1):\n",
    "        coef = 1\n",
    "        num = x ** (2*i)\n",
    "        denom = factorial_fcn(2*i)\n",
    "        cosh_approx += coef * (num/denom)\n",
    "    return cosh_approx\n",
    "\n",
    "print('approx_sin: ', approx_sin (x=3.14 , n=10))\n",
    "print('approx_cos: ', approx_cos (x=3.14 , n=10))\n",
    "print('approx_sinh: ', approx_sinh (x=3.14 , n=10))\n",
    "print('approx_cosh: ', approx_cosh (x=3.14 , n=10))"
   ]
  },
  {
   "cell_type": "markdown",
   "id": "ecc0a6bc",
   "metadata": {
    "executionInfo": {
     "elapsed": 5,
     "status": "ok",
     "timestamp": 1717564975837,
     "user": {
      "displayName": "Phuong Nguyen",
      "userId": "11974806599025701743"
     },
     "user_tz": -420
    },
    "id": "5354b24c"
   },
   "source": [
    "#### 5. ![](5.png)"
   ]
  },
  {
   "cell_type": "code",
   "execution_count": 6,
   "id": "d9e5f419",
   "metadata": {
    "executionInfo": {
     "elapsed": 4,
     "status": "ok",
     "timestamp": 1717564975837,
     "user": {
      "displayName": "Phuong Nguyen",
      "userId": "11974806599025701743"
     },
     "user_tz": -420
    },
    "id": "d9e5f419"
   },
   "outputs": [
    {
     "name": "stdout",
     "output_type": "stream",
     "text": [
      "Example 1:  0.025031328369998107\n",
      "Example 2:  0.03544417213033135\n",
      "Example 3:  0.05625552183565574\n",
      "Example 4:  0.45836890322464546\n"
     ]
    }
   ],
   "source": [
    "def md_nre_single_sample(y, y_hat, n, p):\n",
    "    y_root = y ** (1/n)\n",
    "    y_hat_root = y_hat ** (1/n)\n",
    "    difference = y_root - y_hat_root\n",
    "    loss = difference ** p\n",
    "    return loss\n",
    "\n",
    "print('Example 1: ', md_nre_single_sample (y=100 , y_hat =99.5 , n=2, p=1))\n",
    "print('Example 2: ', md_nre_single_sample (y=50 , y_hat =49.5 , n=2, p=1))\n",
    "print('Example 3: ', md_nre_single_sample (y=20 , y_hat =19.5 , n=2, p=1))\n",
    "print('Example 4: ', md_nre_single_sample (y=0.6 , y_hat =0.1 , n=2, p=1))"
   ]
  },
  {
   "cell_type": "markdown",
   "id": "145575a4",
   "metadata": {},
   "source": [
    "### II. Câu hỏi trắc nghiệm"
   ]
  },
  {
   "cell_type": "code",
   "execution_count": 11,
   "id": "c52f06da",
   "metadata": {},
   "outputs": [
    {
     "name": "stdout",
     "output_type": "stream",
     "text": [
      "precision  0.3333333333333333\n",
      "recall  0.2857142857142857\n",
      "f1_score  0.30769230769230765\n",
      "None 2\n"
     ]
    }
   ],
   "source": [
    "# Câu 1:\n",
    "print(f1_score(tp=2, fp=4, fn=5),2)"
   ]
  },
  {
   "cell_type": "code",
   "execution_count": 15,
   "id": "64accf0c",
   "metadata": {},
   "outputs": [
    {
     "name": "stdout",
     "output_type": "stream",
     "text": [
      "True\n",
      "False\n"
     ]
    }
   ],
   "source": [
    "# Câu 2:\n",
    "def is_number2(x):\n",
    "    return isinstance(x, int)\n",
    "        \n",
    "print(is_number2(1))\n",
    "print(is_number2('n'))"
   ]
  },
  {
   "cell_type": "code",
   "execution_count": null,
   "id": "2b7cfdb4",
   "metadata": {},
   "outputs": [],
   "source": [
    "# Câu 3:\n",
    "x = -2.0\n",
    "if x <=0:\n",
    "    y = 0.0\n",
    "else :\n",
    "    y = x\n",
    "print (y)"
   ]
  },
  {
   "cell_type": "code",
   "execution_count": 16,
   "id": "c13f58c9",
   "metadata": {},
   "outputs": [
    {
     "name": "stdout",
     "output_type": "stream",
     "text": [
      "0.88\n"
     ]
    }
   ],
   "source": [
    "# Câu 4:\n",
    "print(round(sigmoid(2), 2))"
   ]
  },
  {
   "cell_type": "code",
   "execution_count": 20,
   "id": "7ab8b5ac",
   "metadata": {
    "executionInfo": {
     "elapsed": 4,
     "status": "ok",
     "timestamp": 1717564975837,
     "user": {
      "displayName": "Phuong Nguyen",
      "userId": "11974806599025701743"
     },
     "user_tz": -420
    },
    "id": "7ab8b5ac"
   },
   "outputs": [
    {
     "name": "stdout",
     "output_type": "stream",
     "text": [
      "-0.01\n"
     ]
    }
   ],
   "source": [
    "# Câu 5:\n",
    "print(round(elu(-1, alpha=0.01), 2))"
   ]
  },
  {
   "cell_type": "code",
   "execution_count": 22,
   "id": "39bc3cc6",
   "metadata": {},
   "outputs": [
    {
     "name": "stdout",
     "output_type": "stream",
     "text": [
      "0.95\n"
     ]
    }
   ],
   "source": [
    "# Câu 6:\n",
    "print(round(activation(x=3, activation_func='sigmoid'), 2))"
   ]
  },
  {
   "cell_type": "code",
   "execution_count": 25,
   "id": "861d9bf9",
   "metadata": {},
   "outputs": [
    {
     "name": "stdout",
     "output_type": "stream",
     "text": [
      "7\n"
     ]
    }
   ],
   "source": [
    "# Câu 7:\n",
    "y = 2\n",
    "y_hat = 9\n",
    "print(calc_ae(y, y_hat))"
   ]
  },
  {
   "cell_type": "code",
   "execution_count": 26,
   "id": "f0d6b9e5",
   "metadata": {},
   "outputs": [
    {
     "name": "stdout",
     "output_type": "stream",
     "text": [
      "1\n"
     ]
    }
   ],
   "source": [
    "# Câu 8:\n",
    "print(calc_se(2, 1))"
   ]
  },
  {
   "cell_type": "code",
   "execution_count": 27,
   "id": "ec799215",
   "metadata": {},
   "outputs": [
    {
     "name": "stdout",
     "output_type": "stream",
     "text": [
      "-1.0\n"
     ]
    }
   ],
   "source": [
    "# Câu 9:\n",
    "print(round(approx_cos(x=3.14, n=10), 2))"
   ]
  },
  {
   "cell_type": "code",
   "execution_count": 28,
   "id": "cc4aab09",
   "metadata": {},
   "outputs": [
    {
     "name": "stdout",
     "output_type": "stream",
     "text": [
      "0.0016\n"
     ]
    }
   ],
   "source": [
    "# Câu 10:\n",
    "print(round(approx_sin(x=3.14, n=10), 4))"
   ]
  },
  {
   "cell_type": "code",
   "execution_count": 29,
   "id": "db539d83",
   "metadata": {},
   "outputs": [
    {
     "name": "stdout",
     "output_type": "stream",
     "text": [
      "11.53\n"
     ]
    }
   ],
   "source": [
    "# Câu 11:\n",
    "print(round(approx_sinh(x=3.14, n=10), 2))"
   ]
  },
  {
   "cell_type": "code",
   "execution_count": 30,
   "id": "367da26f",
   "metadata": {},
   "outputs": [
    {
     "name": "stdout",
     "output_type": "stream",
     "text": [
      "11.57\n"
     ]
    }
   ],
   "source": [
    "# Câu 12:\n",
    "print(round(approx_cosh(x=3.14, n =10), 2))"
   ]
  }
 ],
 "metadata": {
  "colab": {
   "provenance": []
  },
  "kernelspec": {
   "display_name": "Python 3 (ipykernel)",
   "language": "python",
   "name": "python3"
  },
  "language_info": {
   "codemirror_mode": {
    "name": "ipython",
    "version": 3
   },
   "file_extension": ".py",
   "mimetype": "text/x-python",
   "name": "python",
   "nbconvert_exporter": "python",
   "pygments_lexer": "ipython3",
   "version": "3.11.4"
  }
 },
 "nbformat": 4,
 "nbformat_minor": 5
}
