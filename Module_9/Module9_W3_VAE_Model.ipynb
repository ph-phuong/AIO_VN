{
  "cells": [
    {
      "cell_type": "code",
      "execution_count": 1,
      "metadata": {
        "id": "FOYc-_sXNh_L"
      },
      "outputs": [],
      "source": [
        "# Import các thư viện cần thiết\n",
        "\n",
        "import torch # type: ignore\n",
        "import numpy as np # type: ignore\n",
        "import torch.nn as nn # type: ignore\n",
        "import torch.optim as optim # type: ignore\n",
        "import matplotlib.pyplot as plt # type: ignore\n",
        "import torch.nn.functional as F # type: ignore\n",
        "\n",
        "from tqdm import tqdm # type: ignore\n",
        "from torchsummary import summary # type: ignore\n",
        "from torchvision import transforms, datasets # type: ignore\n",
        "from torch.utils.data import DataLoader, random_split # type: ignore"
      ]
    },
    {
      "cell_type": "code",
      "execution_count": 2,
      "metadata": {
        "colab": {
          "base_uri": "https://localhost:8080/"
        },
        "id": "zO2Ov7N_knF7",
        "outputId": "a15745c1-6a50-4ca3-ac8f-951a9ffa6792"
      },
      "outputs": [
        {
          "name": "stdout",
          "output_type": "stream",
          "text": [
            "Using device: cuda\n"
          ]
        }
      ],
      "source": [
        "# Xác định thiết bị tính toán\n",
        "\n",
        "device = torch.device(\"cuda\" if torch.cuda.is_available() else \"cpu\")\n",
        "print(\"Using device:\", device)"
      ]
    },
    {
      "cell_type": "code",
      "execution_count": null,
      "metadata": {
        "id": "Um7mIJq24CxU"
      },
      "outputs": [],
      "source": [
        "# Khai báo siêu tham số và tải dữ liệu\n",
        "\n",
        "#Hyperparameters\n",
        "batch_size = 256\n",
        "img_size = 28    #original image size is 28x28\n",
        "channels = 1     #grayscale image\n",
        "latent_dim = 2\n",
        "num_epochs = 50 #training epochs 500\n",
        "\n",
        "transform = transforms.Compose([\n",
        "    transforms.Resize((img_size, img_size)),\n",
        "    transforms.ToTensor()\n",
        "])\n",
        "\n",
        "dataset = datasets.MNIST(root='./data', train=True, download=True, transform=transform)"
      ]
    },
    {
      "cell_type": "code",
      "execution_count": 12,
      "metadata": {
        "colab": {
          "base_uri": "https://localhost:8080/"
        },
        "id": "mI3SetgT4Ere",
        "outputId": "7b46cd85-0e77-48ac-a9e0-6163e5765b75"
      },
      "outputs": [
        {
          "name": "stdout",
          "output_type": "stream",
          "text": [
            "Training samples: 48000, Validation samples: 12000\n"
          ]
        }
      ],
      "source": [
        "# Chia dữ liệu và tạo DataLoader\n",
        "\n",
        "# Split dataset into training (80%) and validation (20%)\n",
        "train_size = int(0.8 * len(dataset))\n",
        "val_size = len(dataset) - train_size\n",
        "train_dataset, val_dataset = random_split(dataset, [train_size, val_size])\n",
        "print(f\"Training samples: {len(train_dataset)}, Validation samples: {len(val_dataset)}\")\n",
        "\n",
        "# Create DataLoaders\n",
        "train_loader = DataLoader(train_dataset, batch_size=batch_size, shuffle=True, num_workers=2)\n",
        "val_loader = DataLoader(val_dataset, batch_size=batch_size, shuffle=False, num_workers=2)"
      ]
    },
    {
      "cell_type": "code",
      "execution_count": 13,
      "metadata": {
        "id": "RlsEhTtp4GYA"
      },
      "outputs": [],
      "source": [
        "# Định nghĩa mô hình VAE\n",
        "\n",
        "# Define the Variational Autoencoder (VAE) in PyTorch\n",
        "class VAE(nn.Module):\n",
        "    def __init__(self, channels, latent_dim):\n",
        "        super(VAE, self).__init__()\n",
        "        # Encoder\n",
        "        self.conv1 = nn.Conv2d(channels, 16, kernel_size=3, padding=1)\n",
        "        self.conv2 = nn.Conv2d(16, 32, kernel_size=3, stride=2, padding=1)\n",
        "        self.conv3 = nn.Conv2d(32, 64, kernel_size=3, stride=2, padding=1)\n",
        "\n",
        "        self.flatten_dim = 64 * 7 * 7\n",
        "        self.fc_mu = nn.Linear(self.flatten_dim, latent_dim)\n",
        "        self.fc_logvar = nn.Linear(self.flatten_dim, latent_dim)\n",
        "\n",
        "        # Decoder\n",
        "        self.fc_decode = nn.Linear(latent_dim, self.flatten_dim)\n",
        "        self.deconv1 = nn.ConvTranspose2d(64, 32, kernel_size=3, stride=2, padding=1, output_padding\n",
        "        =1)\n",
        "        self.deconv2 = nn.ConvTranspose2d(32, 16, kernel_size=3, stride=2, padding=1, output_padding\n",
        "        =1)\n",
        "        self.conv_final = nn.Conv2d(16, channels, kernel_size=3, padding=1)\n",
        "\n",
        "    def encode(self, x):\n",
        "        x = F.relu(self.conv1(x))\n",
        "        x = F.relu(self.conv2(x))\n",
        "        x = F.relu(self.conv3(x))\n",
        "        x = x.view(-1, self.flatten_dim)\n",
        "        mu = self.fc_mu(x)\n",
        "        logvar = self.fc_logvar(x)\n",
        "        return mu, logvar\n",
        "\n",
        "    def reparameterize(self, mu, logvar):\n",
        "        std = torch.exp(0.5 * logvar)\n",
        "        eps = torch.randn_like(std)\n",
        "        return mu + eps * std\n",
        "\n",
        "    def decode(self, z):\n",
        "        x = F.relu(self.fc_decode(z))\n",
        "        x = x.view(-1, 64, 7, 7)\n",
        "        x = F.relu(self.deconv1(x))\n",
        "        x = F.relu(self.deconv2(x))\n",
        "        x = torch.sigmoid(self.conv_final(x))\n",
        "        return x\n",
        "\n",
        "    def forward(self, x):\n",
        "        mu, logvar = self.encode(x)\n",
        "        z = self.reparameterize(mu, logvar)\n",
        "        recon_x = self.decode(z)\n",
        "        return recon_x, mu, logvar"
      ]
    },
    {
      "cell_type": "code",
      "execution_count": 14,
      "metadata": {
        "id": "Bi-gyqvM4I59"
      },
      "outputs": [],
      "source": [
        "# Hàm mất mát của VAE\n",
        "\n",
        "def loss_function(recon_x, x, mu, log_var, B=1000):\n",
        "    # Flatten tensors for MSE calculation\n",
        "    recon_x_flat = recon_x.view(recon_x.size(0), -1)\n",
        "    x_flat = x.view(x.size(0), -1)\n",
        "\n",
        "    # Calculate MSE (per element average)\n",
        "    mse_out = F.mse_loss(recon_x_flat, x_flat, reduction='mean')\n",
        "\n",
        "    # Scale by input dimensions\n",
        "    reconstruction_loss = mse_out * x.shape[1] * x.shape[2] * x.shape[3]\n",
        "\n",
        "    # Calculate KL divergence\n",
        "    kl_loss = -0.5 * torch.sum(1 + log_var - mu.pow(2) - log_var.exp(), axis=1)\n",
        "\n",
        "    # Compute final loss (adding B*recon_loss + kl_loss)\n",
        "    total_loss = B * reconstruction_loss + torch.mean(kl_loss)\n",
        "\n",
        "    return total_loss, reconstruction_loss, torch.mean(kl_loss)"
      ]
    },
    {
      "cell_type": "code",
      "execution_count": 15,
      "metadata": {
        "id": "eDx8pzNZ4N51"
      },
      "outputs": [],
      "source": [
        "# Khởi tạo mô hình và bộ tối ưu\n",
        "\n",
        "# Create model, optimizer, etc.\n",
        "model = VAE(channels, latent_dim).to(device)\n",
        "optimizer = optim.Adam(model.parameters(), lr=1e-3, weight_decay=1e-5)"
      ]
    },
    {
      "cell_type": "code",
      "execution_count": 16,
      "metadata": {
        "colab": {
          "base_uri": "https://localhost:8080/"
        },
        "id": "jzmhur3V5Xrz",
        "outputId": "5c3309be-e0f3-4f0f-8f57-ee8db3576496"
      },
      "outputs": [
        {
          "name": "stderr",
          "output_type": "stream",
          "text": []
        },
        {
          "name": "stdout",
          "output_type": "stream",
          "text": [
            "Epoch 1/50 Loss per sample: 365.7186 Recon Loss: 93.6963 KL Loss: 14.5611\n",
            "Training log saved to logs/training_log_20250324_133928.txt\n"
          ]
        },
        {
          "name": "stderr",
          "output_type": "stream",
          "text": []
        },
        {
          "name": "stdout",
          "output_type": "stream",
          "text": [
            "Epoch 2/50 Loss per sample: 221.6963 Recon Loss: 46.2691 KL Loss: 12.7049\n",
            "Training log saved to logs/training_log_20250324_133928.txt\n"
          ]
        },
        {
          "name": "stderr",
          "output_type": "stream",
          "text": []
        },
        {
          "name": "stdout",
          "output_type": "stream",
          "text": [
            "Epoch 3/50 Loss per sample: 166.9104 Recon Loss: 40.4301 KL Loss: 14.9413\n",
            "Training log saved to logs/training_log_20250324_133928.txt\n"
          ]
        },
        {
          "name": "stderr",
          "output_type": "stream",
          "text": []
        },
        {
          "name": "stdout",
          "output_type": "stream",
          "text": [
            "Epoch 4/50 Loss per sample: 154.0526 Recon Loss: 40.0501 KL Loss: 14.2772\n",
            "Training log saved to logs/training_log_20250324_133928.txt\n"
          ]
        },
        {
          "name": "stderr",
          "output_type": "stream",
          "text": []
        },
        {
          "name": "stdout",
          "output_type": "stream",
          "text": [
            "Epoch 5/50 Loss per sample: 146.9860 Recon Loss: 36.4762 KL Loss: 15.1111\n",
            "Training log saved to logs/training_log_20250324_133928.txt\n"
          ]
        },
        {
          "name": "stderr",
          "output_type": "stream",
          "text": []
        },
        {
          "name": "stdout",
          "output_type": "stream",
          "text": [
            "Epoch 6/50 Loss per sample: 143.0253 Recon Loss: 35.5352 KL Loss: 15.8329\n",
            "Training log saved to logs/training_log_20250324_133928.txt\n"
          ]
        },
        {
          "name": "stderr",
          "output_type": "stream",
          "text": []
        },
        {
          "name": "stdout",
          "output_type": "stream",
          "text": [
            "Epoch 7/50 Loss per sample: 140.3178 Recon Loss: 32.7786 KL Loss: 15.9630\n",
            "Training log saved to logs/training_log_20250324_133928.txt\n"
          ]
        },
        {
          "name": "stderr",
          "output_type": "stream",
          "text": []
        },
        {
          "name": "stdout",
          "output_type": "stream",
          "text": [
            "Epoch 8/50 Loss per sample: 138.4301 Recon Loss: 34.8180 KL Loss: 16.4035\n",
            "Training log saved to logs/training_log_20250324_133928.txt\n"
          ]
        },
        {
          "name": "stderr",
          "output_type": "stream",
          "text": []
        },
        {
          "name": "stdout",
          "output_type": "stream",
          "text": [
            "Epoch 9/50 Loss per sample: 136.7662 Recon Loss: 34.1649 KL Loss: 15.7156\n",
            "Training log saved to logs/training_log_20250324_133928.txt\n"
          ]
        },
        {
          "name": "stderr",
          "output_type": "stream",
          "text": []
        },
        {
          "name": "stdout",
          "output_type": "stream",
          "text": [
            "Epoch 10/50 Loss per sample: 135.3652 Recon Loss: 33.6322 KL Loss: 16.0399\n",
            "Training log saved to logs/training_log_20250324_133928.txt\n"
          ]
        },
        {
          "name": "stderr",
          "output_type": "stream",
          "text": []
        },
        {
          "name": "stdout",
          "output_type": "stream",
          "text": [
            "Epoch 11/50 Loss per sample: 134.4855 Recon Loss: 33.5873 KL Loss: 15.9035\n",
            "Training log saved to logs/training_log_20250324_133928.txt\n"
          ]
        },
        {
          "name": "stderr",
          "output_type": "stream",
          "text": []
        },
        {
          "name": "stdout",
          "output_type": "stream",
          "text": [
            "Epoch 12/50 Loss per sample: 133.5758 Recon Loss: 32.8497 KL Loss: 16.9414\n",
            "Training log saved to logs/training_log_20250324_133928.txt\n"
          ]
        },
        {
          "name": "stderr",
          "output_type": "stream",
          "text": []
        },
        {
          "name": "stdout",
          "output_type": "stream",
          "text": [
            "Epoch 13/50 Loss per sample: 132.8816 Recon Loss: 35.6493 KL Loss: 15.1381\n",
            "Training log saved to logs/training_log_20250324_133928.txt\n"
          ]
        },
        {
          "name": "stderr",
          "output_type": "stream",
          "text": []
        },
        {
          "name": "stdout",
          "output_type": "stream",
          "text": [
            "Epoch 14/50 Loss per sample: 132.1764 Recon Loss: 35.7518 KL Loss: 15.6341\n",
            "Training log saved to logs/training_log_20250324_133928.txt\n"
          ]
        },
        {
          "name": "stderr",
          "output_type": "stream",
          "text": []
        },
        {
          "name": "stdout",
          "output_type": "stream",
          "text": [
            "Epoch 15/50 Loss per sample: 131.4707 Recon Loss: 35.5439 KL Loss: 14.3277\n",
            "Training log saved to logs/training_log_20250324_133928.txt\n"
          ]
        },
        {
          "name": "stderr",
          "output_type": "stream",
          "text": []
        },
        {
          "name": "stdout",
          "output_type": "stream",
          "text": [
            "Epoch 16/50 Loss per sample: 130.8840 Recon Loss: 34.7432 KL Loss: 15.9866\n",
            "Training log saved to logs/training_log_20250324_133928.txt\n"
          ]
        },
        {
          "name": "stderr",
          "output_type": "stream",
          "text": []
        },
        {
          "name": "stdout",
          "output_type": "stream",
          "text": [
            "Epoch 17/50 Loss per sample: 130.3300 Recon Loss: 35.7078 KL Loss: 15.8616\n",
            "Training log saved to logs/training_log_20250324_133928.txt\n"
          ]
        },
        {
          "name": "stderr",
          "output_type": "stream",
          "text": []
        },
        {
          "name": "stdout",
          "output_type": "stream",
          "text": [
            "Epoch 18/50 Loss per sample: 129.9750 Recon Loss: 32.6634 KL Loss: 17.4567\n",
            "Training log saved to logs/training_log_20250324_133928.txt\n"
          ]
        },
        {
          "name": "stderr",
          "output_type": "stream",
          "text": []
        },
        {
          "name": "stdout",
          "output_type": "stream",
          "text": [
            "Epoch 19/50 Loss per sample: 129.3503 Recon Loss: 35.3411 KL Loss: 17.0724\n",
            "Training log saved to logs/training_log_20250324_133928.txt\n"
          ]
        },
        {
          "name": "stderr",
          "output_type": "stream",
          "text": []
        },
        {
          "name": "stdout",
          "output_type": "stream",
          "text": [
            "Epoch 20/50 Loss per sample: 129.0404 Recon Loss: 33.1284 KL Loss: 15.9924\n",
            "Training log saved to logs/training_log_20250324_133928.txt\n"
          ]
        },
        {
          "name": "stderr",
          "output_type": "stream",
          "text": []
        },
        {
          "name": "stdout",
          "output_type": "stream",
          "text": [
            "Epoch 21/50 Loss per sample: 128.3911 Recon Loss: 33.3776 KL Loss: 16.1314\n",
            "Training log saved to logs/training_log_20250324_133928.txt\n"
          ]
        },
        {
          "name": "stderr",
          "output_type": "stream",
          "text": []
        },
        {
          "name": "stdout",
          "output_type": "stream",
          "text": [
            "Epoch 22/50 Loss per sample: 128.2764 Recon Loss: 35.6306 KL Loss: 15.4679\n",
            "Training log saved to logs/training_log_20250324_133928.txt\n"
          ]
        },
        {
          "name": "stderr",
          "output_type": "stream",
          "text": []
        },
        {
          "name": "stdout",
          "output_type": "stream",
          "text": [
            "Epoch 23/50 Loss per sample: 127.9576 Recon Loss: 31.0534 KL Loss: 16.7934\n",
            "Training log saved to logs/training_log_20250324_133928.txt\n"
          ]
        },
        {
          "name": "stderr",
          "output_type": "stream",
          "text": []
        },
        {
          "name": "stdout",
          "output_type": "stream",
          "text": [
            "Epoch 24/50 Loss per sample: 127.6306 Recon Loss: 32.7569 KL Loss: 16.5417\n",
            "Training log saved to logs/training_log_20250324_133928.txt\n"
          ]
        },
        {
          "name": "stderr",
          "output_type": "stream",
          "text": []
        },
        {
          "name": "stdout",
          "output_type": "stream",
          "text": [
            "Epoch 25/50 Loss per sample: 127.2824 Recon Loss: 32.1901 KL Loss: 16.6899\n",
            "Training log saved to logs/training_log_20250324_133928.txt\n"
          ]
        },
        {
          "name": "stderr",
          "output_type": "stream",
          "text": []
        },
        {
          "name": "stdout",
          "output_type": "stream",
          "text": [
            "Epoch 26/50 Loss per sample: 126.9405 Recon Loss: 33.7139 KL Loss: 15.3368\n",
            "Training log saved to logs/training_log_20250324_133928.txt\n"
          ]
        },
        {
          "name": "stderr",
          "output_type": "stream",
          "text": []
        },
        {
          "name": "stdout",
          "output_type": "stream",
          "text": [
            "Epoch 27/50 Loss per sample: 126.5034 Recon Loss: 32.4213 KL Loss: 16.4713\n",
            "Training log saved to logs/training_log_20250324_133928.txt\n"
          ]
        },
        {
          "name": "stderr",
          "output_type": "stream",
          "text": []
        },
        {
          "name": "stdout",
          "output_type": "stream",
          "text": [
            "Epoch 28/50 Loss per sample: 126.2899 Recon Loss: 32.6916 KL Loss: 17.6907\n",
            "Training log saved to logs/training_log_20250324_133928.txt\n"
          ]
        },
        {
          "name": "stderr",
          "output_type": "stream",
          "text": []
        },
        {
          "name": "stdout",
          "output_type": "stream",
          "text": [
            "Epoch 29/50 Loss per sample: 126.0553 Recon Loss: 33.0470 KL Loss: 16.3716\n",
            "Training log saved to logs/training_log_20250324_133928.txt\n"
          ]
        },
        {
          "name": "stderr",
          "output_type": "stream",
          "text": []
        },
        {
          "name": "stdout",
          "output_type": "stream",
          "text": [
            "Epoch 30/50 Loss per sample: 125.8774 Recon Loss: 29.9110 KL Loss: 16.1897\n",
            "Training log saved to logs/training_log_20250324_133928.txt\n"
          ]
        },
        {
          "name": "stderr",
          "output_type": "stream",
          "text": []
        },
        {
          "name": "stdout",
          "output_type": "stream",
          "text": [
            "Epoch 31/50 Loss per sample: 125.7177 Recon Loss: 34.3073 KL Loss: 14.7701\n",
            "Training log saved to logs/training_log_20250324_133928.txt\n"
          ]
        },
        {
          "name": "stderr",
          "output_type": "stream",
          "text": []
        },
        {
          "name": "stdout",
          "output_type": "stream",
          "text": [
            "Epoch 32/50 Loss per sample: 125.3996 Recon Loss: 31.9836 KL Loss: 15.8388\n",
            "Training log saved to logs/training_log_20250324_133928.txt\n"
          ]
        },
        {
          "name": "stderr",
          "output_type": "stream",
          "text": []
        },
        {
          "name": "stdout",
          "output_type": "stream",
          "text": [
            "Epoch 33/50 Loss per sample: 125.3487 Recon Loss: 32.7873 KL Loss: 15.3434\n",
            "Training log saved to logs/training_log_20250324_133928.txt\n"
          ]
        },
        {
          "name": "stderr",
          "output_type": "stream",
          "text": []
        },
        {
          "name": "stdout",
          "output_type": "stream",
          "text": [
            "Epoch 34/50 Loss per sample: 125.0155 Recon Loss: 32.4522 KL Loss: 15.7234\n",
            "Training log saved to logs/training_log_20250324_133928.txt\n"
          ]
        },
        {
          "name": "stderr",
          "output_type": "stream",
          "text": []
        },
        {
          "name": "stdout",
          "output_type": "stream",
          "text": [
            "Epoch 35/50 Loss per sample: 124.9389 Recon Loss: 32.2357 KL Loss: 15.0145\n",
            "Training log saved to logs/training_log_20250324_133928.txt\n"
          ]
        },
        {
          "name": "stderr",
          "output_type": "stream",
          "text": []
        },
        {
          "name": "stdout",
          "output_type": "stream",
          "text": [
            "Epoch 36/50 Loss per sample: 124.6964 Recon Loss: 31.3042 KL Loss: 15.6691\n",
            "Training log saved to logs/training_log_20250324_133928.txt\n"
          ]
        },
        {
          "name": "stderr",
          "output_type": "stream",
          "text": []
        },
        {
          "name": "stdout",
          "output_type": "stream",
          "text": [
            "Epoch 37/50 Loss per sample: 124.3636 Recon Loss: 33.0922 KL Loss: 15.4454\n",
            "Training log saved to logs/training_log_20250324_133928.txt\n"
          ]
        },
        {
          "name": "stderr",
          "output_type": "stream",
          "text": []
        },
        {
          "name": "stdout",
          "output_type": "stream",
          "text": [
            "Epoch 38/50 Loss per sample: 124.3057 Recon Loss: 32.4040 KL Loss: 15.7481\n",
            "Training log saved to logs/training_log_20250324_133928.txt\n"
          ]
        },
        {
          "name": "stderr",
          "output_type": "stream",
          "text": []
        },
        {
          "name": "stdout",
          "output_type": "stream",
          "text": [
            "Epoch 39/50 Loss per sample: 123.9074 Recon Loss: 31.4005 KL Loss: 17.2315\n",
            "Training log saved to logs/training_log_20250324_133928.txt\n"
          ]
        },
        {
          "name": "stderr",
          "output_type": "stream",
          "text": []
        },
        {
          "name": "stdout",
          "output_type": "stream",
          "text": [
            "Epoch 40/50 Loss per sample: 123.8195 Recon Loss: 33.7527 KL Loss: 14.8681\n",
            "Training log saved to logs/training_log_20250324_133928.txt\n"
          ]
        },
        {
          "name": "stderr",
          "output_type": "stream",
          "text": []
        },
        {
          "name": "stdout",
          "output_type": "stream",
          "text": [
            "Epoch 41/50 Loss per sample: 123.7049 Recon Loss: 31.9443 KL Loss: 15.5623\n",
            "Training log saved to logs/training_log_20250324_133928.txt\n"
          ]
        },
        {
          "name": "stderr",
          "output_type": "stream",
          "text": []
        },
        {
          "name": "stdout",
          "output_type": "stream",
          "text": [
            "Epoch 42/50 Loss per sample: 123.6206 Recon Loss: 33.7426 KL Loss: 15.9014\n",
            "Training log saved to logs/training_log_20250324_133928.txt\n"
          ]
        },
        {
          "name": "stderr",
          "output_type": "stream",
          "text": []
        },
        {
          "name": "stdout",
          "output_type": "stream",
          "text": [
            "Epoch 43/50 Loss per sample: 123.5227 Recon Loss: 29.8900 KL Loss: 16.3773\n",
            "Training log saved to logs/training_log_20250324_133928.txt\n"
          ]
        },
        {
          "name": "stderr",
          "output_type": "stream",
          "text": []
        },
        {
          "name": "stdout",
          "output_type": "stream",
          "text": [
            "Epoch 44/50 Loss per sample: 123.2111 Recon Loss: 30.9241 KL Loss: 16.0776\n",
            "Training log saved to logs/training_log_20250324_133928.txt\n"
          ]
        },
        {
          "name": "stderr",
          "output_type": "stream",
          "text": []
        },
        {
          "name": "stdout",
          "output_type": "stream",
          "text": [
            "Epoch 45/50 Loss per sample: 123.1663 Recon Loss: 33.1062 KL Loss: 15.1925\n",
            "Training log saved to logs/training_log_20250324_133928.txt\n"
          ]
        },
        {
          "name": "stderr",
          "output_type": "stream",
          "text": []
        },
        {
          "name": "stdout",
          "output_type": "stream",
          "text": [
            "Epoch 46/50 Loss per sample: 122.8209 Recon Loss: 30.2614 KL Loss: 15.8956\n",
            "Training log saved to logs/training_log_20250324_133928.txt\n"
          ]
        },
        {
          "name": "stderr",
          "output_type": "stream",
          "text": []
        },
        {
          "name": "stdout",
          "output_type": "stream",
          "text": [
            "Epoch 47/50 Loss per sample: 122.5884 Recon Loss: 28.9387 KL Loss: 15.9657\n",
            "Training log saved to logs/training_log_20250324_133928.txt\n"
          ]
        },
        {
          "name": "stderr",
          "output_type": "stream",
          "text": []
        },
        {
          "name": "stdout",
          "output_type": "stream",
          "text": [
            "Epoch 48/50 Loss per sample: 122.4939 Recon Loss: 32.8737 KL Loss: 17.2579\n",
            "Training log saved to logs/training_log_20250324_133928.txt\n"
          ]
        },
        {
          "name": "stderr",
          "output_type": "stream",
          "text": []
        },
        {
          "name": "stdout",
          "output_type": "stream",
          "text": [
            "Epoch 49/50 Loss per sample: 122.5657 Recon Loss: 32.3966 KL Loss: 14.9974\n",
            "Training log saved to logs/training_log_20250324_133928.txt\n"
          ]
        },
        {
          "name": "stderr",
          "output_type": "stream",
          "text": [
            "                                                                            "
          ]
        },
        {
          "name": "stdout",
          "output_type": "stream",
          "text": [
            "Epoch 50/50 Loss per sample: 122.2844 Recon Loss: 30.7425 KL Loss: 15.3275\n",
            "Training log saved to logs/training_log_20250324_133928.txt\n"
          ]
        },
        {
          "name": "stderr",
          "output_type": "stream",
          "text": [
            "\r"
          ]
        }
      ],
      "source": [
        "# Huấn luyện mô hình và ghi log\n",
        "\n",
        "import os\n",
        "from datetime import datetime\n",
        "\n",
        "# Create a log directory if it doesn't exist\n",
        "log_dir = \"logs\"\n",
        "os.makedirs(log_dir, exist_ok=True)\n",
        "\n",
        "# Create a log file with timestamp\n",
        "timestamp = datetime.now().strftime(\"%Y%m%d_%H%M%S\")\n",
        "log_file = os.path.join(log_dir, f\"training_log_{timestamp}.txt\")\n",
        "\n",
        "# Open the log file\n",
        "with open(log_file, \"w\") as f:\n",
        "    f.write(f\"Training started at {datetime.now().strftime('%Y-%m-%d %H:%M:%S')}\\n\")\n",
        "    f.write(f\"Model: VAE with latent_dim={latent_dim}\\n\")\n",
        "    f.write(f\"Batch size: {batch_size}, Image size: {img_size}x{img_size}\\n\")\n",
        "    f.write(f\"Total epochs: {num_epochs}\\n\\n\")\n",
        "    f.write(\"Epoch,Avg_Loss,Recon_Loss,KL_Loss\\n\")\n",
        "\n",
        "# Training loop with logging\n",
        "model.train()\n",
        "for epoch in range(num_epochs):\n",
        "    train_loss = 0.0\n",
        "    epoch_bar = tqdm(train_loader, desc=f\"Epoch {epoch+1}/{num_epochs}\", leave=False)\n",
        "    for data, _ in epoch_bar:\n",
        "        data = data.to(device)\n",
        "        optimizer.zero_grad()\n",
        "        recon_batch, mu, logvar = model(data)\n",
        "        loss, recon_loss, kl_loss = loss_function(recon_batch, data, mu, logvar)\n",
        "        loss.backward()\n",
        "        train_loss += loss.item()\n",
        "        optimizer.step()\n",
        "        epoch_bar.set_postfix(loss=loss.item())\n",
        "\n",
        "    # Calculate average loss\n",
        "    avg_loss = train_loss / len(train_loader.dataset)\n",
        "\n",
        "    # Print epoch summary\n",
        "    print(f\"Epoch {epoch+1}/{num_epochs} Loss per sample: {avg_loss:.4f} \"\n",
        "    f\"Recon Loss: {recon_loss.item():.4f} KL Loss: {kl_loss.item():.4f}\")\n",
        "\n",
        "    # Save to log file\n",
        "    with open(log_file, \"a\") as f:\n",
        "        f.write(f\"{epoch+1},{avg_loss:.6f},{recon_loss.item():.6f},{kl_loss.item():.6f}\\n\")\n",
        "\n",
        "    # Log training completion\n",
        "    with open(log_file, \"a\") as f:\n",
        "        f.write(f\"\\nTraining completed at {datetime.now().strftime('%Y-%m-%d %H:%M:%S')}\\n\")\n",
        "\n",
        "    print(f\"Training log saved to {log_file}\")"
      ]
    },
    {
      "cell_type": "code",
      "execution_count": 17,
      "metadata": {
        "id": "oJVURrTL4I4b"
      },
      "outputs": [],
      "source": [
        "# Kiểm tra và trực quan hóa ảnh tái tạo\n",
        "\n",
        "# After training, visualize the reconstruction on validation images\n",
        "model.eval()\n",
        "with torch.no_grad():\n",
        "    data_iter = iter(val_loader)\n",
        "    images, _ = next(data_iter)\n",
        "    images = images.to(device)\n",
        "    recon_images, _, _ = model(images)"
      ]
    },
    {
      "cell_type": "code",
      "execution_count": 18,
      "metadata": {
        "colab": {
          "base_uri": "https://localhost:8080/",
          "height": 358
        },
        "id": "EmitMP4L5iIl",
        "outputId": "38c8e9e6-0c4e-4bd2-a664-4a042aeba7e8"
      },
      "outputs": [
        {
          "data": {
            "image/png": "[encoded data removed]",
            "text/plain": [
              "<Figure size 2000x400 with 20 Axes>"
            ]
          },
          "metadata": {},
          "output_type": "display_data"
        }
      ],
      "source": [
        "# Trực quan hóa ảnh gốc và ảnh tái tạo\n",
        "\n",
        "# Plot original and reconstructed images side by side\n",
        "n = 10 # number of images to display\n",
        "plt.figure(figsize=(20, 4))\n",
        "for i in range(n):\n",
        "# Original image: (C,H,W) -> (H,W,C)\n",
        "    orig = images[i].cpu().permute(1, 2, 0).numpy()\n",
        "    recon = recon_images[i].cpu().permute(1, 2, 0).numpy()\n",
        "\n",
        "    ax = plt.subplot(2, n, i + 1)\n",
        "    plt.imshow(orig)\n",
        "    plt.title(\"Original\")\n",
        "    plt.axis('off')\n",
        "\n",
        "    ax = plt.subplot(2, n, i + 1 + n)\n",
        "    plt.imshow(recon)\n",
        "    plt.title(\"Reconstructed\")\n",
        "    plt.axis('off')\n",
        "\n",
        "plt.show()"
      ]
    },
    {
      "cell_type": "code",
      "execution_count": null,
      "metadata": {
        "id": "D-NrHu1jYsdC"
      },
      "outputs": [],
      "source": []
    }
  ],
  "metadata": {
    "accelerator": "GPU",
    "colab": {
      "gpuType": "T4",
      "machine_shape": "hm",
      "provenance": []
    },
    "kernelspec": {
      "display_name": "Python 3",
      "name": "python3"
    },
    "language_info": {
      "name": "python"
    }
  },
  "nbformat": 4,
  "nbformat_minor": 0
}
