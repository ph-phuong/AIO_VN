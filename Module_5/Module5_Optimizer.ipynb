{
  "cells": [
    {
      "cell_type": "code",
      "execution_count": 1,
      "metadata": {
        "id": "_7Gcu-fRXvQw"
      },
      "outputs": [],
      "source": [
        "# 1.Import các thư viện cần thiết\n",
        "import numpy as np # type: ignore"
      ]
    },
    {
      "cell_type": "code",
      "execution_count": 29,
      "metadata": {
        "id": "QOCimfFgavaW",
        "colab": {
          "base_uri": "https://localhost:8080/"
        },
        "outputId": "f10a9942-5756-4ca8-a076-861ec8193aec"
      },
      "outputs": [
        {
          "output_type": "stream",
          "name": "stdout",
          "text": [
            "w1 = [-5. -2.]\n",
            "w2 = [-4.6  1.2]\n",
            "w3 = [-4.232 -0.72 ]\n",
            "w4 = [-3.89344  0.432  ]\n",
            "w5 = [-3.5819648 -0.2592   ]\n",
            "w6 = [-3.29540762  0.15552   ]\n",
            "w7 = [-3.03177501 -0.093312  ]\n",
            "w8 = [-2.78923301  0.0559872 ]\n",
            "w9 = [-2.56609437 -0.03359232]\n",
            "w10 = [-2.36080682  0.02015539]\n",
            "w11 = [-2.17194227 -0.01209324]\n",
            "w12 = [-1.99818689  0.00725594]\n",
            "w13 = [-1.83833194 -0.00435356]\n",
            "w14 = [-1.69126538  0.00261214]\n",
            "w15 = [-1.55596415 -0.00156728]\n",
            "w16 = [-1.43148702e+00  9.40369969e-04]\n",
            "w17 = [-1.31696806e+00 -5.64221981e-04]\n",
            "w18 = [-1.21161061e+00  3.38533189e-04]\n",
            "w19 = [-1.11468176e+00 -2.03119913e-04]\n",
            "w20 = [-1.02550722e+00  1.21871948e-04]\n",
            "w21 = [-9.43466646e-01 -7.31231688e-05]\n",
            "w22 = [-8.67989314e-01  4.38739013e-05]\n",
            "w23 = [-7.98550169e-01 -2.63243408e-05]\n",
            "w24 = [-7.34666155e-01  1.57946045e-05]\n",
            "w25 = [-6.75892863e-01 -9.47676268e-06]\n",
            "w26 = [-6.21821434e-01  5.68605761e-06]\n",
            "w27 = [-5.72075719e-01 -3.41163456e-06]\n",
            "w28 = [-5.26309662e-01  2.04698074e-06]\n",
            "w29 = [-4.84204889e-01 -1.22818844e-06]\n",
            "w30 = [-4.45468498e-01  7.36913066e-07]\n",
            "w31 = [-4.09831018e-01 -4.42147839e-07]\n"
          ]
        }
      ],
      "source": [
        "# Bài 1: Gradient Descent\n",
        "\n",
        "def df_w(W):\n",
        "    w1, w2 = W\n",
        "    dw1 = w1*0.2\n",
        "    dw2 = w2*4\n",
        "    dw = np.array([dw1, dw2])\n",
        "    return dw\n",
        "\n",
        "def sgd(W, dw, lr):\n",
        "    W = W - lr*dw\n",
        "    return W\n",
        "\n",
        "def train_p1(sgd, lr, epochs):\n",
        "    W = np.array([-5, -2], dtype=np.float32)\n",
        "    results = [W.copy()]\n",
        "\n",
        "    for epoch in range(epochs):\n",
        "        dw = df_w(W)\n",
        "        W = sgd(W, dw, lr)\n",
        "        results.append(W)\n",
        "    return results\n",
        "\n",
        "def print_wb(results):\n",
        "    for i, w in enumerate(results):\n",
        "        print(f\"w{i+1} = {w}\")\n",
        "\n",
        "# w1 = −5, w2 = −2\n",
        "lr = 0.4\n",
        "\n",
        "result1 = train_p1(sgd, lr, epochs=30)\n",
        "print_wb(result1)\n"
      ]
    },
    {
      "cell_type": "code",
      "source": [
        "# Gradient Descent + Momentum\n",
        "\n",
        "def df_w(W):\n",
        "    w1, w2 = W\n",
        "    dw1 = w1*0.2\n",
        "    dw2 = w2*4\n",
        "    dw = np.array([dw1, dw2])\n",
        "    return dw\n",
        "\n",
        "def sgd_momentum(W, dw, lr=0.6, V=None, beta=None):\n",
        "    if V is None:\n",
        "        V = 0\n",
        "    if beta is None:\n",
        "        beta = 0\n",
        "    V = beta*V + lr*dw\n",
        "    W = W - V\n",
        "    return W, V\n",
        "\n",
        "def train_p2(optimizer, lr=0.6, epochs=0): #added default value for epochs\n",
        "    W = np.array([-5, -2], dtype=np.float32)\n",
        "    V = np.array([0, 0], dtype=np.float32)\n",
        "    results = [W.copy()]\n",
        "\n",
        "    for epoch in range(epochs):\n",
        "        dw = df_w(W)\n",
        "        W, V = optimizer(W, dw, lr, V, beta)\n",
        "        results.append(W)\n",
        "    return results\n",
        "\n",
        "# w1 = −5, w2 = −2, v1 = 0, v2 = 0, α = 0.6, β = 0.5, epoch=30\n",
        "lr = 0.6\n",
        "beta = 0.5\n",
        "\n",
        "result2 = train_p2(sgd_momentum, lr, epochs=30)\n",
        "print_wb(result2)"
      ],
      "metadata": {
        "id": "wg6PbiO4uzhg",
        "colab": {
          "base_uri": "https://localhost:8080/"
        },
        "outputId": "39ca5eaf-96bd-4cdc-e0a1-51a781f33209"
      },
      "execution_count": 40,
      "outputs": [
        {
          "output_type": "stream",
          "name": "stdout",
          "text": [
            "w1 = [-5. -2.]\n",
            "w2 = [-4.4  2.8]\n",
            "w3 = [-3.572 -1.52 ]\n",
            "w4 = [-2.72936 -0.032  ]\n",
            "w5 = [-1.9805168  0.7888   ]\n",
            "w6 = [-1.36843318 -0.69392   ]\n",
            "w7 = [-0.89817939  0.230128  ]\n",
            "w8 = [-0.55527097  0.1398448 ]\n",
            "w9 = [-0.31718424 -0.24092432]\n",
            "w10 = [-0.16007877  0.14690949]\n",
            "w11 = [-0.06231658 -0.01175638]\n",
            "w12 = [-0.0059575 -0.062874 ]\n",
            "w13 = [0.02293694 0.06246479]\n",
            "w14 = [ 0.03463173 -0.02478131]\n",
            "w15 = [ 0.03632332 -0.00892922]\n",
            "w16 = [0.03281031 0.02042695]\n",
            "w17 = [ 0.02711657 -0.01391965]\n",
            "w18 = [0.02101571 0.00231421]\n",
            "w19 = [0.0154434  0.00487704]\n",
            "w20 = [ 0.01080403 -0.00554644]\n",
            "w21 = [0.00718787 0.00255327]\n",
            "w22 = [0.00451724 0.00047527]\n",
            "w23 = [ 0.00263986 -0.00170438]\n",
            "w24 = [0.00138438 0.00129631]\n",
            "w25 = [ 0.00059052 -0.00031449]\n",
            "w26 = [ 0.00012273 -0.00036512]\n",
            "w27 = [-0.0001259   0.00048585]\n",
            "w28 = [-0.0002351 -0.0002547]\n",
            "w29 = [-2.61492134e-04 -1.36895151e-05]\n",
            "w30 = [-0.00024331  0.00013967]\n",
            "w31 = [-0.00020502 -0.00011886]\n"
          ]
        }
      ]
    },
    {
      "cell_type": "code",
      "source": [
        "# RMSProp\n",
        "\n",
        "def df_w(W):\n",
        "    w1, w2 = W\n",
        "    dw1 = w1*0.2\n",
        "    dw2 = w2*4\n",
        "    dw = np.array([dw1, dw2])\n",
        "    return dw\n",
        "\n",
        "def RMSProp(W, dw, lr, S, gamma):\n",
        "    epsilon = 1e-6\n",
        "    S = gamma*S + (1-gamma)*dw**2\n",
        "    adapt_lr = lr/np.sqrt(S+epsilon)\n",
        "    W = W - adapt_lr*dw\n",
        "    return W, S\n",
        "\n",
        "def train_p3(optimizer, lr, epochs):\n",
        "    W = np.array([-5, -2], dtype=np.float32)\n",
        "    S = np.array([0, 0], dtype=np.float32)\n",
        "    results = [W.copy()]\n",
        "\n",
        "    for epoch in range(epochs):\n",
        "        dw = df_w(W)\n",
        "        W, S = optimizer(W, dw, lr, S, 0.9)\n",
        "        results.append(W)\n",
        "    return results\n",
        "\n",
        "\n",
        "# a)w1 = −5, w2 = −2, s1 = 0, s2 = 0, α = 0.3, γ = 0.9, ϵ = 1e−6\n",
        "lr = 0.3\n",
        "gamma = 0.9\n",
        "\n",
        "result3 = train_p3(RMSProp, lr, epochs=30)\n",
        "print_wb(result3)\n"
      ],
      "metadata": {
        "id": "p7sNI9Guuznw",
        "colab": {
          "base_uri": "https://localhost:8080/"
        },
        "outputId": "bca9cd98-51f0-46a1-ff9d-a30b8029606d"
      },
      "execution_count": 41,
      "outputs": [
        {
          "output_type": "stream",
          "name": "stdout",
          "text": [
            "w1 = [-5. -2.]\n",
            "w2 = [-4.05132145 -1.05131678]\n",
            "w3 = [-3.43519754 -0.59152343]\n",
            "w4 = [-2.95893693 -0.3294394 ]\n",
            "w5 = [-2.56546289 -0.17756482]\n",
            "w6 = [-2.22920552 -0.09163256]\n",
            "w7 = [-1.93626752 -0.04494499]\n",
            "w8 = [-1.67817686 -0.02081423]\n",
            "w9 = [-1.44934985 -0.00903559]\n",
            "w10 = [-1.24588199 -0.00364591]\n",
            "w11 = [-1.06490301 -0.00135351]\n",
            "w12 = [-9.04202260e-01 -4.56444431e-04]\n",
            "w13 = [-7.61996495e-01 -1.37562928e-04]\n",
            "w14 = [-6.36778499e-01 -3.62601019e-05]\n",
            "w15 = [-5.27215237e-01 -8.11337456e-06]\n",
            "w16 = [-4.32078505e-01 -1.47473412e-06]\n",
            "w17 = [-3.50198507e-01 -2.02783991e-07]\n",
            "w18 = [-2.80434649e-01 -1.84231187e-08]\n",
            "w19 = [-2.21659834e-01 -7.67742748e-10]\n",
            "w20 = [-1.72755512e-01  7.80451998e-12]\n",
            "w21 = [-1.32615134e-01 -5.05794800e-13]\n",
            "w22 = [-1.00153779e-01  6.19123501e-14]\n",
            "w23 = [-7.43217708e-02 -1.13373781e-14]\n",
            "w24 = [-5.41201278e-02  2.80166702e-15]\n",
            "w25 = [-3.86159157e-02 -8.81341191e-16]\n",
            "w26 = [-2.69558066e-02  3.39921117e-16]\n",
            "w27 = [-1.83765633e-02 -1.56581731e-16]\n",
            "w28 = [-1.22116093e-02  8.44994985e-17]\n",
            "w29 = [-7.89331794e-03 -5.26376595e-17]\n",
            "w30 = [-4.95110261e-03  3.74107995e-17]\n",
            "w31 = [-3.00577081e-03 -3.00506084e-17]\n"
          ]
        }
      ]
    },
    {
      "cell_type": "code",
      "source": [
        "# Adam\n",
        "def df_w(W):\n",
        "    w1, w2 = W\n",
        "    dw1 = w1*0.2\n",
        "    dw2 = w2*4\n",
        "    dw = np.array([dw1, dw2])\n",
        "    return dw\n",
        "\n",
        "def adam(W, dW, lr, v, s, beta1, beta2, epsilon, t):\n",
        "    # Update biased first moment estimate\n",
        "    v = beta1 * v + (1 - beta1) * dW\n",
        "    # Update biased second moment estimate\n",
        "    s = beta2 * s + (1 - beta2) * (dW ** 2)\n",
        "\n",
        "    # Compute bias-corrected moment estimates\n",
        "    v_corrected = v / (1 - beta1 ** t)\n",
        "    s_corrected = s / (1 - beta2 ** t)\n",
        "\n",
        "    # Update parameters\n",
        "    W = W - lr * (v_corrected / (np.sqrt(s_corrected) + epsilon))\n",
        "\n",
        "    return W, v, s\n",
        "\n",
        "# Training function using Adam\n",
        "def train_adam(lr, beta1, beta2, epsilon, epochs):\n",
        "    W = np.array([-5, -2])\n",
        "    v = np.array([0.0, 0.0])\n",
        "    s = np.array([0.0, 0.0])\n",
        "    results = [W.copy()]\n",
        "\n",
        "    for t in range(1, epochs + 1):\n",
        "        dW = df_w(W)\n",
        "        W, v, s = adam(W, dW, lr, v, s, beta1, beta2, epsilon, t)\n",
        "        results.append(W.copy())\n",
        "\n",
        "    return results\n",
        "\n",
        "# Parameters\n",
        "learning_rate = 0.2  # α = 0.2\n",
        "beta1 = 0.9\n",
        "beta2 = 0.999\n",
        "epsilon = 1e-6\n",
        "epochs = 30\n",
        "\n",
        "# Training\n",
        "result4 = train_adam(learning_rate, beta1, beta2, epsilon, epochs)\n",
        "print_wb(result4)"
      ],
      "metadata": {
        "id": "m1euPTxSuztN",
        "colab": {
          "base_uri": "https://localhost:8080/"
        },
        "outputId": "10bdd033-7319-4000-8a8f-37ba4d094825"
      },
      "execution_count": 26,
      "outputs": [
        {
          "output_type": "stream",
          "name": "stdout",
          "text": [
            "w1 = [-5 -2]\n",
            "w2 = [-4.8000002  -1.80000002]\n",
            "w3 = [-4.60025478 -1.60082451]\n",
            "w4 = [-4.40094848 -1.40317262]\n",
            "w5 = [-4.20227764 -1.20787822]\n",
            "w6 = [-4.00445033 -1.01592745]\n",
            "w7 = [-3.80768638 -0.82847307]\n",
            "w8 = [-3.61221732 -0.64684159]\n",
            "w9 = [-3.41828623 -0.47252765]\n",
            "w10 = [-3.22614739 -0.30716934]\n",
            "w11 = [-3.03606592 -0.15249855]\n",
            "w12 = [-2.84831706 -0.01026326]\n",
            "w13 = [-2.66318543  0.11787552]\n",
            "w14 = [-2.480964    0.23046161]\n",
            "w15 = [-2.30195279  0.3263587 ]\n",
            "w16 = [-2.12645742  0.40484195]\n",
            "w17 = [-1.95478732  0.46564961]\n",
            "w18 = [-1.7872537   0.50898799]\n",
            "w19 = [-1.62416726  0.53549442]\n",
            "w20 = [-1.46583566  0.54617144]\n",
            "w21 = [-1.31256067  0.54230812]\n",
            "w22 = [-1.16463526  0.52540206]\n",
            "w23 = [-1.02234036  0.4970906 ]\n",
            "w24 = [-0.88594163  0.4590951 ]\n",
            "w25 = [-0.75568617  0.41317781]\n",
            "w26 = [-0.63179919  0.3611089 ]\n",
            "w27 = [-0.51448089  0.30464048]\n",
            "w28 = [-0.40390346  0.24548409]\n",
            "w29 = [-0.30020842  0.18528918]\n",
            "w30 = [-0.20350426  0.12562074]\n",
            "w31 = [-0.11386457  0.06793529]\n",
            "None\n"
          ]
        }
      ]
    },
    {
      "cell_type": "code",
      "source": [],
      "metadata": {
        "id": "6g-24Ot811q5"
      },
      "execution_count": null,
      "outputs": []
    },
    {
      "cell_type": "code",
      "source": [],
      "metadata": {
        "id": "II1eWqG011vC"
      },
      "execution_count": null,
      "outputs": []
    },
    {
      "cell_type": "code",
      "source": [],
      "metadata": {
        "id": "mMRxw1iH11yC"
      },
      "execution_count": null,
      "outputs": []
    }
  ],
  "metadata": {
    "colab": {
      "provenance": []
    },
    "kernelspec": {
      "display_name": "Python 3",
      "name": "python3"
    },
    "language_info": {
      "codemirror_mode": {
        "name": "ipython",
        "version": 3
      },
      "file_extension": ".py",
      "mimetype": "text/x-python",
      "name": "python",
      "nbconvert_exporter": "python",
      "pygments_lexer": "ipython3",
      "version": "3.11.4"
    }
  },
  "nbformat": 4,
  "nbformat_minor": 0
}