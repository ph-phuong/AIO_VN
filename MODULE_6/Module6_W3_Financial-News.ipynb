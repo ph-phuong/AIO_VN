{
 "cells": [
  {
   "cell_type": "code",
   "execution_count": 2,
   "metadata": {
    "colab": {
     "base_uri": "https://localhost:8080/"
    },
    "executionInfo": {
     "elapsed": 4480,
     "status": "ok",
     "timestamp": 1734352316477,
     "user": {
      "displayName": "Phuong Nguyen",
      "userId": "11974806599025701743"
     },
     "user_tz": -420
    },
    "id": "_7Gcu-fRXvQw",
    "outputId": "1dac8e70-0c8e-4669-efda-341a39461630"
   },
   "outputs": [
    {
     "name": "stdout",
     "output_type": "stream",
     "text": [
      "Downloading...\n",
      "From: https://drive.google.com/uc?id=1uYXI4O3oWBA6QC8ZJ-r6yaTTfkdAnl_Q\n",
      "To: /content/dataset.zip\n",
      "\r  0% 0.00/230k [00:00<?, ?B/s]\r100% 230k/230k [00:00<00:00, 10.7MB/s]\n",
      "Archive:  dataset.zip\n",
      "   creating: dataset/\n",
      "  inflating: dataset/all-data.csv    \n"
     ]
    }
   ],
   "source": [
    "# 1. Tải bộ dữ liệu\n",
    "\n",
    "!gdown 1uYXI4O3oWBA6QC8ZJ-r6yaTTfkdAnl_Q\n",
    "\n",
    "!unzip dataset.zip"
   ]
  },
  {
   "cell_type": "code",
   "execution_count": 6,
   "metadata": {
    "colab": {
     "base_uri": "https://localhost:8080/"
    },
    "executionInfo": {
     "elapsed": 3576,
     "status": "ok",
     "timestamp": 1734352621155,
     "user": {
      "displayName": "Phuong Nguyen",
      "userId": "11974806599025701743"
     },
     "user_tz": -420
    },
    "id": "9Y_sQP2deLc4",
    "outputId": "08bdeef8-9601-4204-ac47-47d80893b78a"
   },
   "outputs": [
    {
     "name": "stdout",
     "output_type": "stream",
     "text": [
      "Collecting Unidecode\n",
      "  Downloading Unidecode-1.3.8-py3-none-any.whl.metadata (13 kB)\n",
      "Downloading Unidecode-1.3.8-py3-none-any.whl (235 kB)\n",
      "\u001b[2K   \u001b[90m━━━━━━━━━━━━━━━━━━━━━━━━━━━━━━━━━━━━━━━━\u001b[0m \u001b[32m235.5/235.5 kB\u001b[0m \u001b[31m4.4 MB/s\u001b[0m eta \u001b[36m0:00:00\u001b[0m\n",
      "\u001b[?25hInstalling collected packages: Unidecode\n",
      "Successfully installed Unidecode-1.3.8\n"
     ]
    }
   ],
   "source": [
    "%pip install Unidecode"
   ]
  },
  {
   "cell_type": "code",
   "execution_count": 7,
   "metadata": {
    "colab": {
     "base_uri": "https://localhost:8080/"
    },
    "executionInfo": {
     "elapsed": 675,
     "status": "ok",
     "timestamp": 1734352627465,
     "user": {
      "displayName": "Phuong Nguyen",
      "userId": "11974806599025701743"
     },
     "user_tz": -420
    },
    "id": "QOCimfFgavaW",
    "outputId": "2fbaa025-c8a8-4294-bf02-dcbc894a7642"
   },
   "outputs": [
    {
     "name": "stderr",
     "output_type": "stream",
     "text": [
      "[nltk_data] Downloading package stopwords to /root/nltk_data...\n",
      "[nltk_data]   Unzipping corpora/stopwords.zip.\n"
     ]
    }
   ],
   "source": [
    "# 2. Import các thư viện cần thiết\n",
    "\n",
    "import torch # type: ignore\n",
    "import torch.nn as nn # type: ignore\n",
    "\n",
    "seed = 1\n",
    "torch.manual_seed(seed)\n",
    "\n",
    "import os # type: ignore\n",
    "import numpy as np # type: ignore\n",
    "import pandas as pd # type: ignore\n",
    "import matplotlib.pyplot as plt # type: ignore\n",
    "import re # type: ignore\n",
    "import nltk # type: ignore\n",
    "import unidecode # type: ignore\n",
    "\n",
    "nltk.download('stopwords') # type: ignore\n",
    "from nltk.corpus import stopwords # type: ignore\n",
    "from nltk.stem.porter import PorterStemmer # type: ignore\n",
    "\n",
    "from torch.utils.data import Dataset, DataLoader # type: ignore\n",
    "from sklearn.model_selection import train_test_split # type: ignore"
   ]
  },
  {
   "cell_type": "code",
   "execution_count": 10,
   "metadata": {
    "executionInfo": {
     "elapsed": 304,
     "status": "ok",
     "timestamp": 1734352804133,
     "user": {
      "displayName": "Phuong Nguyen",
      "userId": "11974806599025701743"
     },
     "user_tz": -420
    },
    "id": "lvxlHynKksSC"
   },
   "outputs": [],
   "source": [
    "# 3. Đọc bộ dữ liệu\n",
    "dataset_path = 'dataset/all-data.csv'\n",
    "headers = ['sentiment', 'content']\n",
    "df = pd.read_csv(\n",
    "                dataset_path,\n",
    "                names=headers,\n",
    "                encoding='ISO-8859-1')\n",
    "\n",
    "classes = {\n",
    "        class_name: idx for idx, class_name in enumerate(df['sentiment'].unique().tolist())\n",
    "        }"
   ]
  },
  {
   "cell_type": "code",
   "execution_count": 12,
   "metadata": {
    "executionInfo": {
     "elapsed": 660,
     "status": "ok",
     "timestamp": 1734353032519,
     "user": {
      "displayName": "Phuong Nguyen",
      "userId": "11974806599025701743"
     },
     "user_tz": -420
    },
    "id": "wg6PbiO4uzhg"
   },
   "outputs": [],
   "source": [
    "# 4. Tiền xử lý dữ liệu\n",
    "english_stop_words = stopwords.words('english')\n",
    "stemmer = PorterStemmer()\n",
    "\n",
    "def text_normalize(text):\n",
    "    text = text.lower()\n",
    "    text = unidecode.unidecode(text)\n",
    "    text = text.strip()\n",
    "    text = re.sub(r'[^\\w\\s]', '', text)\n",
    "    text = ' '.join([word for word in text.split(' ') if word not in english_stop_words])\n",
    "    text = ' '.join([stemmer.stem(word) for word in text.split(' ')])\n",
    "\n",
    "    return text\n",
    "\n",
    "df['content'] = df['content'].apply(lambda x: text_normalize(x))"
   ]
  },
  {
   "cell_type": "code",
   "execution_count": 25,
   "metadata": {
    "executionInfo": {
     "elapsed": 623,
     "status": "ok",
     "timestamp": 1734354724875,
     "user": {
      "displayName": "Phuong Nguyen",
      "userId": "11974806599025701743"
     },
     "user_tz": -420
    },
    "id": "p7sNI9Guuznw"
   },
   "outputs": [],
   "source": [
    "# 5. Xây dựng bộ từ vựng\n",
    "vocab = []\n",
    "for sentence in df['content'].tolist():\n",
    "    tokens = sentence.split()\n",
    "    for token in tokens:\n",
    "        if token not in vocab:\n",
    "            vocab.append(token)\n",
    "\n",
    "vocab.append('UNK')\n",
    "vocab.append('PAD')\n",
    "word_to_idx = {word: idx for idx, word in enumerate(vocab)}\n",
    "vocab_size  = len(vocab)\n",
    "\n",
    "def transform(text, word_to_idx, max_seq_len):\n",
    "    tokens = []\n",
    "    for w in text.split():\n",
    "        try:\n",
    "            w_idx = word_to_idx[w]\n",
    "        except:\n",
    "            w_idx = word_to_idx['UNK']\n",
    "        tokens.append(w_idx)\n",
    "\n",
    "    if len(tokens) < max_seq_len:\n",
    "        tokens += [word_to_idx['PAD']] * (max_seq_len - len(tokens))\n",
    "    elif len(tokens) > max_seq_len:\n",
    "        tokens = tokens[:max_seq_len]\n",
    "\n",
    "    return tokens"
   ]
  },
  {
   "cell_type": "code",
   "execution_count": 26,
   "metadata": {
    "executionInfo": {
     "elapsed": 360,
     "status": "ok",
     "timestamp": 1734354726778,
     "user": {
      "displayName": "Phuong Nguyen",
      "userId": "11974806599025701743"
     },
     "user_tz": -420
    },
    "id": "rKVYkl1Ae6nl"
   },
   "outputs": [],
   "source": [
    "# 6. Chia bộ dữ liệu train, val, test\n",
    "val_size = 0.2\n",
    "text_size = 0.125\n",
    "is_shuffle = True\n",
    "texts = df['content'].tolist()\n",
    "labels = df['sentiment'].tolist()\n",
    "\n",
    "X_train, X_val, y_train, y_val = train_test_split(\n",
    "                                                texts,\n",
    "                                                labels,\n",
    "                                                test_size=val_size,\n",
    "                                                random_state=seed,\n",
    "                                                shuffle=is_shuffle)\n",
    "X_train, X_test, y_train, y_test = train_test_split(\n",
    "                                                X_train,\n",
    "                                                y_train,\n",
    "                                                test_size=val_size,\n",
    "                                                random_state=seed,\n",
    "                                                shuffle=is_shuffle)"
   ]
  },
  {
   "cell_type": "code",
   "execution_count": 47,
   "metadata": {
    "executionInfo": {
     "elapsed": 332,
     "status": "ok",
     "timestamp": 1734355212937,
     "user": {
      "displayName": "Phuong Nguyen",
      "userId": "11974806599025701743"
     },
     "user_tz": -420
    },
    "id": "3AkAYUYi-8ru"
   },
   "outputs": [],
   "source": [
    "# 7. Xây dựng pytorch datasets\n",
    "class FinancialNews(Dataset):\n",
    "    def __init__(self, X, y, word_to_idx, max_seq_len, transform=None, classes=None):\n",
    "        self.texts = X\n",
    "        self.labels = y\n",
    "        self.word_to_idx = word_to_idx\n",
    "        self.max_seq_len = max_seq_len\n",
    "        self.transform = transform\n",
    "        self.classes = classes\n",
    "\n",
    "    def __len__(self):\n",
    "        return len(self.texts)\n",
    "\n",
    "    def __getitem__(self, idx):\n",
    "        text = self.texts[idx]\n",
    "        label = self.labels[idx]\n",
    "\n",
    "        if self.transform:\n",
    "            text = self.transform(text, self.word_to_idx, self.max_seq_len)\n",
    "\n",
    "        label = self.classes.get(label)\n",
    "        label = torch.tensor(label, dtype=torch.long)\n",
    "        text = torch.tensor(text, dtype=torch.long)\n",
    "\n",
    "        return text, label\n",
    "\n",
    "\n",
    "# 8. Khai báo dataloader\n",
    "max_seq_len = 32\n",
    "train_dataset = FinancialNews(\n",
    "                            X_train,\n",
    "                            y_train,\n",
    "                            word_to_idx=word_to_idx,\n",
    "                            max_seq_len=max_seq_len,\n",
    "                            transform=transform,\n",
    "                            classes=classes)\n",
    "val_dataset = FinancialNews(\n",
    "                            X_val,\n",
    "                            y_val,\n",
    "                            word_to_idx=word_to_idx,\n",
    "                            max_seq_len=max_seq_len,\n",
    "                            transform=transform,\n",
    "                            classes=classes)\n",
    "test_dataset = FinancialNews(\n",
    "                            X_test,\n",
    "                            y_test,\n",
    "                            word_to_idx=word_to_idx,\n",
    "                            max_seq_len=max_seq_len,\n",
    "                            transform=transform,\n",
    "                            classes=classes)\n",
    "train_batch_size = 128\n",
    "test_batch_size = 8\n",
    "\n",
    "train_loader = DataLoader(\n",
    "                        train_dataset,\n",
    "                        batch_size=train_batch_size,\n",
    "                        shuffle=True,\n",
    "                        num_workers=1\n",
    "                        )\n",
    "val_loader = DataLoader(\n",
    "                        val_dataset,\n",
    "                        batch_size=test_batch_size,\n",
    "                        shuffle=False,\n",
    "                        num_workers=1\n",
    "                        )\n",
    "test_loader = DataLoader(\n",
    "                        test_dataset,\n",
    "                        batch_size=test_batch_size,\n",
    "                        shuffle=False,\n",
    "                        num_workers=1\n",
    "                        )\n",
    "\n",
    "# 9. Xây dựng mô hình\n",
    "class SentimentClassifier(nn.Module):\n",
    "    def __init__(self, vocab_size, embedding_dim, hidden_size, n_layers, n_classes, dropout_prob):\n",
    "        super(SentimentClassifier, self).__init__()\n",
    "        self.embedding = nn.Embedding(vocab_size, embedding_dim)\n",
    "        self.rnn = nn.RNN(embedding_dim, hidden_size, n_layers, batch_first=True)\n",
    "        self.norm = nn.LayerNorm(hidden_size)\n",
    "        self.dropout = nn.Dropout(dropout_prob)\n",
    "        self.fc1 = nn.Linear(hidden_size, 16)\n",
    "        self.relu = nn.ReLU()\n",
    "        self.fc2 = nn.Linear(16, n_classes)\n",
    "\n",
    "    def forward(self, x):\n",
    "        x = self.embedding(x)\n",
    "        x, hbn = self.rnn(x)\n",
    "        x = x[:, -1, :]\n",
    "        x = self.norm(x)\n",
    "        x = self.dropout(x)\n",
    "        x = self.fc1(x)\n",
    "        x = self.relu(x)\n",
    "        x = self.fc2(x)\n",
    "\n",
    "        return x\n",
    "\n",
    "n_classes = len(list(classes.keys()))\n",
    "embedding_dim = 64\n",
    "hidden_size = 64\n",
    "n_layers = 2\n",
    "dropout_prob = 0.2\n",
    "device = 'cuda' if torch.cuda.is_available() else 'cpu'\n",
    "\n",
    "model = SentimentClassifier(\n",
    "                            vocab_size=vocab_size,\n",
    "                            embedding_dim=embedding_dim,\n",
    "                            hidden_size=hidden_size,\n",
    "                            n_layers=n_layers,\n",
    "                            n_classes=n_classes,\n",
    "                            dropout_prob=dropout_prob).to(device)\n",
    "\n",
    "# 10. Cài đặt hàm loss và optimizer\n",
    "lr = 1e-4\n",
    "epochs = 50\n",
    "\n",
    "criterion = nn.CrossEntropyLoss()\n",
    "optimizer = torch.optim.Adam(model.parameters(), lr=lr, weight_decay=0.00001)"
   ]
  },
  {
   "cell_type": "code",
   "execution_count": 48,
   "metadata": {
    "colab": {
     "base_uri": "https://localhost:8080/",
     "height": 1000
    },
    "executionInfo": {
     "elapsed": 84950,
     "status": "ok",
     "timestamp": 1734355300327,
     "user": {
      "displayName": "Phuong Nguyen",
      "userId": "11974806599025701743"
     },
     "user_tz": -420
    },
    "id": "CDptkbSj--3D",
    "outputId": "f625c9ad-1597-494b-8a2a-63482ff283a8"
   },
   "outputs": [
    {
     "name": "stdout",
     "output_type": "stream",
     "text": [
      "EPOCH 1: \tTrain loss: 0.9830 \tVal loss: 0.9437 \tVal acc: 0.5866\n",
      "EPOCH 2: \tTrain loss: 0.9526 \tVal loss: 0.9335 \tVal acc: 0.5866\n",
      "EPOCH 3: \tTrain loss: 0.9424 \tVal loss: 0.9310 \tVal acc: 0.5856\n",
      "EPOCH 4: \tTrain loss: 0.9308 \tVal loss: 0.9306 \tVal acc: 0.5856\n",
      "EPOCH 5: \tTrain loss: 0.9339 \tVal loss: 0.9304 \tVal acc: 0.5856\n",
      "EPOCH 6: \tTrain loss: 0.9349 \tVal loss: 0.9301 \tVal acc: 0.5856\n",
      "EPOCH 7: \tTrain loss: 0.9415 \tVal loss: 0.9301 \tVal acc: 0.5856\n",
      "EPOCH 8: \tTrain loss: 0.9333 \tVal loss: 0.9313 \tVal acc: 0.5856\n",
      "EPOCH 9: \tTrain loss: 0.9377 \tVal loss: 0.9307 \tVal acc: 0.5856\n",
      "EPOCH 10: \tTrain loss: 0.9295 \tVal loss: 0.9298 \tVal acc: 0.5856\n",
      "EPOCH 11: \tTrain loss: 0.9340 \tVal loss: 0.9300 \tVal acc: 0.5856\n",
      "EPOCH 12: \tTrain loss: 0.9324 \tVal loss: 0.9295 \tVal acc: 0.5866\n",
      "EPOCH 13: \tTrain loss: 0.9272 \tVal loss: 0.9295 \tVal acc: 0.5866\n",
      "EPOCH 14: \tTrain loss: 0.9312 \tVal loss: 0.9296 \tVal acc: 0.5866\n",
      "EPOCH 15: \tTrain loss: 0.9333 \tVal loss: 0.9294 \tVal acc: 0.5866\n",
      "EPOCH 16: \tTrain loss: 0.9287 \tVal loss: 0.9294 \tVal acc: 0.5866\n",
      "EPOCH 17: \tTrain loss: 0.9324 \tVal loss: 0.9294 \tVal acc: 0.5856\n",
      "EPOCH 18: \tTrain loss: 0.9329 \tVal loss: 0.9297 \tVal acc: 0.5866\n",
      "EPOCH 19: \tTrain loss: 0.9262 \tVal loss: 0.9295 \tVal acc: 0.5866\n",
      "EPOCH 20: \tTrain loss: 0.9265 \tVal loss: 0.9297 \tVal acc: 0.5866\n",
      "EPOCH 21: \tTrain loss: 0.9290 \tVal loss: 0.9296 \tVal acc: 0.5866\n",
      "EPOCH 22: \tTrain loss: 0.9319 \tVal loss: 0.9308 \tVal acc: 0.5866\n",
      "EPOCH 23: \tTrain loss: 0.9254 \tVal loss: 0.9295 \tVal acc: 0.5866\n",
      "EPOCH 24: \tTrain loss: 0.9312 \tVal loss: 0.9296 \tVal acc: 0.5866\n",
      "EPOCH 25: \tTrain loss: 0.9244 \tVal loss: 0.9292 \tVal acc: 0.5866\n",
      "EPOCH 26: \tTrain loss: 0.9312 \tVal loss: 0.9295 \tVal acc: 0.5866\n",
      "EPOCH 27: \tTrain loss: 0.9258 \tVal loss: 0.9292 \tVal acc: 0.5866\n",
      "EPOCH 28: \tTrain loss: 0.9262 \tVal loss: 0.9292 \tVal acc: 0.5866\n",
      "EPOCH 29: \tTrain loss: 0.9234 \tVal loss: 0.9295 \tVal acc: 0.5856\n",
      "EPOCH 30: \tTrain loss: 0.9317 \tVal loss: 0.9294 \tVal acc: 0.5856\n",
      "EPOCH 31: \tTrain loss: 0.9297 \tVal loss: 0.9296 \tVal acc: 0.5856\n",
      "EPOCH 32: \tTrain loss: 0.9288 \tVal loss: 0.9293 \tVal acc: 0.5856\n",
      "EPOCH 33: \tTrain loss: 0.9291 \tVal loss: 0.9295 \tVal acc: 0.5856\n",
      "EPOCH 34: \tTrain loss: 0.9331 \tVal loss: 0.9292 \tVal acc: 0.5856\n",
      "EPOCH 35: \tTrain loss: 0.9268 \tVal loss: 0.9290 \tVal acc: 0.5856\n",
      "EPOCH 36: \tTrain loss: 0.9298 \tVal loss: 0.9291 \tVal acc: 0.5856\n",
      "EPOCH 37: \tTrain loss: 0.9318 \tVal loss: 0.9290 \tVal acc: 0.5856\n",
      "EPOCH 38: \tTrain loss: 0.9241 \tVal loss: 0.9289 \tVal acc: 0.5856\n",
      "EPOCH 39: \tTrain loss: 0.9251 \tVal loss: 0.9289 \tVal acc: 0.5856\n",
      "EPOCH 40: \tTrain loss: 0.9336 \tVal loss: 0.9296 \tVal acc: 0.5856\n",
      "EPOCH 41: \tTrain loss: 0.9247 \tVal loss: 0.9295 \tVal acc: 0.5856\n",
      "EPOCH 42: \tTrain loss: 0.9311 \tVal loss: 0.9289 \tVal acc: 0.5856\n",
      "EPOCH 43: \tTrain loss: 0.9259 \tVal loss: 0.9303 \tVal acc: 0.5856\n",
      "EPOCH 44: \tTrain loss: 0.9244 \tVal loss: 0.9288 \tVal acc: 0.5856\n",
      "EPOCH 45: \tTrain loss: 0.9330 \tVal loss: 0.9293 \tVal acc: 0.5856\n",
      "EPOCH 46: \tTrain loss: 0.9261 \tVal loss: 0.9288 \tVal acc: 0.5856\n",
      "EPOCH 47: \tTrain loss: 0.9299 \tVal loss: 0.9291 \tVal acc: 0.5856\n",
      "EPOCH 48: \tTrain loss: 0.9258 \tVal loss: 0.9288 \tVal acc: 0.5856\n",
      "EPOCH 49: \tTrain loss: 0.9273 \tVal loss: 0.9291 \tVal acc: 0.5856\n",
      "EPOCH 50: \tTrain loss: 0.9256 \tVal loss: 0.9286 \tVal acc: 0.5856\n"
     ]
    },
    {
     "data": {
      "image/png": "[encoded data removed]",
      "text/plain": [
       "<Figure size 1000x500 with 1 Axes>"
      ]
     },
     "metadata": {},
     "output_type": "display_data"
    }
   ],
   "source": [
    "# 11. Thực hiện huấn luyện\n",
    "def fit(model, train_loader, val_loader, criterion, optimizer, device, n_epochs):\n",
    "    train_losses = []\n",
    "    val_losses = []\n",
    "\n",
    "    for epoch in range(epochs):\n",
    "        batch_train_losses = []\n",
    "        model.train()\n",
    "        for idx, (inputs, labels) in enumerate(train_loader):\n",
    "            inputs, labels = inputs.to(device), labels.to(device)\n",
    "\n",
    "            optimizer.zero_grad()\n",
    "            outputs = model(inputs)\n",
    "            loss = criterion(outputs, labels)\n",
    "            batch_train_losses.append(loss.item())\n",
    "\n",
    "            loss.backward()\n",
    "            optimizer.step()\n",
    "\n",
    "            batch_train_losses.append(loss.item())\n",
    "\n",
    "        train_loss = sum(batch_train_losses) / len(batch_train_losses)\n",
    "        train_losses.append(train_loss)\n",
    "\n",
    "        val_loss, val_acc = evaluate(model, val_loader, criterion, device)\n",
    "        val_losses.append(val_loss)\n",
    "\n",
    "        print(f'EPOCH {epoch+1}: \\tTrain loss: {train_loss:.4f} \\tVal loss: {val_loss:.4f} \\tVal acc: {val_acc:.4f}')\n",
    "\n",
    "    return train_losses, val_losses\n",
    "\n",
    "def evaluate(model, dataloader, criterion, device):\n",
    "    model.eval()\n",
    "    correct = 0\n",
    "    total = 0\n",
    "    losses = []\n",
    "    with torch.no_grad():\n",
    "        for inputs, labels in dataloader:\n",
    "            inputs, labels = inputs.to(device), labels.to(device)\n",
    "            outputs = model(inputs)\n",
    "            loss = criterion(outputs, labels)\n",
    "            losses.append(loss.item())\n",
    "\n",
    "            _, predicted = torch.max(outputs.data, 1)\n",
    "            total += labels.size(0)\n",
    "            correct += (predicted == labels).sum().item()\n",
    "\n",
    "    loss = sum(losses) / len(losses)\n",
    "    acc = correct / total\n",
    "    return loss, acc\n",
    "\n",
    "train_losses, val_losses = fit(model, train_loader, val_loader, criterion, optimizer, device, epochs)\n",
    "\n",
    "plt.figure(figsize=(10, 5))\n",
    "plt.plot(train_losses, label='Training Loss')\n",
    "plt.plot(val_losses, label='Validation Loss')\n",
    "plt.title('Training and Validation Losses')\n",
    "plt.xlabel('Epoch')\n",
    "plt.ylabel('Loss')\n",
    "plt.legend()\n",
    "plt.grid(True)\n",
    "plt.show()"
   ]
  },
  {
   "cell_type": "code",
   "execution_count": 49,
   "metadata": {
    "colab": {
     "base_uri": "https://localhost:8080/"
    },
    "executionInfo": {
     "elapsed": 1431,
     "status": "ok",
     "timestamp": 1734355419188,
     "user": {
      "displayName": "Phuong Nguyen",
      "userId": "11974806599025701743"
     },
     "user_tz": -420
    },
    "id": "pMGtA-ekGY49",
    "outputId": "757f6896-ff98-4427-e38f-578fa30fbe95"
   },
   "outputs": [
    {
     "name": "stdout",
     "output_type": "stream",
     "text": [
      "Evaluation on val/test dataset\n",
      "Val accuracy 0.5855670103092784\n",
      "Test accuracy 0.6134020618556701\n"
     ]
    }
   ],
   "source": [
    "# 12. Đánh giá mô hình\n",
    "val_loss, val_acc = evaluate(model, val_loader, criterion, device)\n",
    "test_loss, test_acc = evaluate(model, test_loader, criterion, device)\n",
    "\n",
    "print('Evaluation on val/test dataset')\n",
    "print(f'Val accuracy', val_acc)\n",
    "print(f'Test accuracy', test_acc)"
   ]
  },
  {
   "cell_type": "code",
   "execution_count": null,
   "metadata": {
    "id": "nWZuBZhLHYg7"
   },
   "outputs": [],
   "source": []
  }
 ],
 "metadata": {
  "colab": {
   "provenance": []
  },
  "kernelspec": {
   "display_name": "Python 3",
   "name": "python3"
  },
  "language_info": {
   "codemirror_mode": {
    "name": "ipython",
    "version": 3
   },
   "file_extension": ".py",
   "mimetype": "text/x-python",
   "name": "python",
   "nbconvert_exporter": "python",
   "pygments_lexer": "ipython3",
   "version": "3.11.4"
  }
 },
 "nbformat": 4,
 "nbformat_minor": 0
}
