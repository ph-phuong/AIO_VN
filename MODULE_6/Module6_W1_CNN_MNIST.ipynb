{
 "cells": [
  {
   "cell_type": "code",
   "execution_count": null,
   "metadata": {
    "executionInfo": {
     "elapsed": 300,
     "status": "ok",
     "timestamp": 1733406838223,
     "user": {
      "displayName": "Phuong Nguyen",
      "userId": "11974806599025701743"
     },
     "user_tz": -420
    },
    "id": "QOCimfFgavaW"
   },
   "outputs": [],
   "source": [
    "# 1. Tải về bộ dữ liệu\n",
    "import os\n",
    "import random\n",
    "import csv\n",
    "import numpy as np # type: ignore\n",
    "import matplotlib.pyplot as plt # type: ignore\n",
    "from PIL import Image # type: ignore\n",
    "\n",
    "import time\n",
    "\n",
    "import torch # type: ignore\n",
    "import torch.nn as nn # type: ignore\n",
    "import torch.optim as optim # type: ignore\n",
    "import torch.nn.functional as F # type: ignore\n",
    "import torch.utils.data as data # type: ignore\n",
    "\n",
    "import torchvision.transforms as transform # type: ignore\n",
    "import torchvision.datasets as datasets # type: ignore\n",
    "\n",
    "from torchsummary import summary # type: ignore\n",
    "\n",
    "ROOT = '/data'\n",
    "train_data = datasets.MNIST(root=ROOT, train=True, download=True)\n",
    "test_data = datasets.MNIST(root=ROOT, train=False, download=True)"
   ]
  },
  {
   "cell_type": "code",
   "execution_count": null,
   "metadata": {
    "executionInfo": {
     "elapsed": 325,
     "status": "ok",
     "timestamp": 1733404899028,
     "user": {
      "displayName": "Phuong Nguyen",
      "userId": "11974806599025701743"
     },
     "user_tz": -420
    },
    "id": "wg6PbiO4uzhg"
   },
   "outputs": [],
   "source": [
    "# 2. Tiền xử lý dữ liệu\n",
    "\n",
    "# Split training : validation = 0.9 : 0.1\n",
    "VALID_RATIO = 0.9\n",
    "\n",
    "n_train_examples = int(len(train_data) * VALID_RATIO)\n",
    "n_valid_examples = len(train_data) - n_train_examples\n",
    "\n",
    "train_data, valid_data = data.random_split(train_data,\n",
    "                                           [n_train_examples, n_valid_examples])\n",
    "\n",
    "# compute mean and std for normalization\n",
    "mean = train_data.dataset.data.float().mean() / 255\n",
    "std = train_data.dataset.data.float().std() / 255\n",
    "\n",
    "train_transforms = transform.Compose([\n",
    "    transform.ToTensor(),\n",
    "    transform.Normalize(mean=[mean], std=[std])\n",
    "])\n",
    "\n",
    "test_transforms = transform.Compose([\n",
    "    transform.ToTensor(),\n",
    "    transform.Normalize(mean=[mean], std=[std])\n",
    "])\n",
    "\n",
    "train_data.dataset.transform = train_transforms\n",
    "valid_data.dataset.transform = test_transforms\n",
    "\n",
    "# Create dataloader\n",
    "BATCH_SIZE = 256\n",
    "\n",
    "train_dataloader = data.DataLoader(train_data,\n",
    "                                 shuffle=True,\n",
    "                                 batch_size=BATCH_SIZE,\n",
    "                                 num_workers=0)\n",
    "\n",
    "valid_dataloader = data.DataLoader(valid_data,\n",
    "                                 batch_size=BATCH_SIZE,\n",
    "                                 num_workers=0)"
   ]
  },
  {
   "cell_type": "code",
   "execution_count": 21,
   "metadata": {
    "executionInfo": {
     "elapsed": 307,
     "status": "ok",
     "timestamp": 1733407118994,
     "user": {
      "displayName": "Phuong Nguyen",
      "userId": "11974806599025701743"
     },
     "user_tz": -420
    },
    "id": "p7sNI9Guuznw"
   },
   "outputs": [],
   "source": [
    "# 3. Xây dựng mô hình LeNet\n",
    "class LeNetClassifier(nn.Module):\n",
    "    def __init__(self, num_classes):\n",
    "        super().__init__()\n",
    "        self.conv1 = nn.Conv2d(in_channels=1, out_channels=6, kernel_size=5, padding='same')\n",
    "        self.avgpool1 = nn.AvgPool2d(kernel_size=2)\n",
    "        self.conv2 = nn.Conv2d(in_channels=6, out_channels=16, kernel_size=5)\n",
    "        self.avgpool2 = nn.AvgPool2d(kernel_size=2)\n",
    "        self.flatten = nn.Flatten()\n",
    "        self.fc1 = nn.Linear(5*5*16, 120)\n",
    "        self.fc2 = nn.Linear(120, 84)\n",
    "        self.fc3 = nn.Linear(84, num_classes)\n",
    "\n",
    "    def forward(self, inputs):\n",
    "        outputs = self.conv1(inputs)\n",
    "        outputs = self.avgpool1(outputs)\n",
    "        outputs = F.relu(outputs)\n",
    "        outputs = self.conv2(outputs)\n",
    "        outputs = self.avgpool2(outputs)\n",
    "        outputs = F.relu(outputs)\n",
    "        outputs = self.flatten(outputs)\n",
    "        outputs = self.fc1(outputs)\n",
    "        outputs = self.fc2(outputs)\n",
    "        outputs = self.fc3(outputs)\n",
    "        return outputs"
   ]
  },
  {
   "cell_type": "code",
   "execution_count": null,
   "metadata": {
    "executionInfo": {
     "elapsed": 335,
     "status": "ok",
     "timestamp": 1733407169881,
     "user": {
      "displayName": "Phuong Nguyen",
      "userId": "11974806599025701743"
     },
     "user_tz": -420
    },
    "id": "3lckCQAyjsxC"
   },
   "outputs": [],
   "source": [
    "# 4. Huấn luyện mô hình\n",
    "def train(model, optimizer, criterion, train_dataloader, device, epoch=0, log_interval=50):\n",
    "    model.train()\n",
    "    total_acc, total_count = 0, 0\n",
    "    losses = []\n",
    "    start_time = time.time()\n",
    "    for idx, (inputs, labels) in enumerate(train_dataloader):\n",
    "        inputs = inputs.to(device)\n",
    "        labels = labels.to(device)\n",
    "\n",
    "        optimizer.zero_grad()\n",
    "        predictions = model(inputs)\n",
    "\n",
    "        # compute loss\n",
    "        loss = criterion(predictions, labels)\n",
    "        losses.append(loss.item())\n",
    "\n",
    "        # backward\n",
    "        loss.backward()\n",
    "        torch.nn.utils.clip_grad_norm_(model.parameters(), 0.1)\n",
    "\n",
    "        # update parameters\n",
    "        optimizer.step()\n",
    "        total_acc += (predictions.argmax(1) == labels).sum().item()\n",
    "        total_count += labels.size(0)\n",
    "        if idx % log_interval == 0 and idx > 0:\n",
    "            elapsed = time.time() - start_time\n",
    "            print(\n",
    "                \"| epoch {:3d} | {:5d}/{:5d} batches\"\n",
    "                \" | accuracy {:8.3f}\".format\n",
    "                                            (epoch, idx, len(train_dataloader), total_acc/total_count)\n",
    "                )\n",
    "            total_acc, total_count = 0, 0\n",
    "            start_time = time.time()\n",
    "    epoch_acc = total_acc / total_count\n",
    "    epoch_loss = sum(losses) / len(losses)\n",
    "    return epoch_loss, epoch_acc\n",
    "\n",
    "# Evaluation function\n",
    "def evaluate(model, criterion, valid_dataloader):\n",
    "    model.eval()\n",
    "    total_acc, total_count = 0, 0\n",
    "    losses = []\n",
    "\n",
    "    with torch.no_grad():\n",
    "        for idx, (inputs, labels) in enumerate(valid_dataloader):\n",
    "            inputs = inputs.to(device) # type: ignore\n",
    "            labels = labels.to(device) # type: ignore\n",
    "\n",
    "            predictions = model(inputs)\n",
    "\n",
    "            loss = criterion(predictions, labels)\n",
    "            losses.append(loss.item())\n",
    "\n",
    "            total_acc += (predictions.argmax(1) == labels).sum().item()\n",
    "            total_count += labels.size(0)\n",
    "\n",
    "    epoch_acc = total_acc / total_count\n",
    "    epoch_loss = sum(losses) / len(losses)\n",
    "    return epoch_loss, epoch_acc\n"
   ]
  },
  {
   "cell_type": "code",
   "execution_count": null,
   "metadata": {
    "colab": {
     "base_uri": "https://localhost:8080/"
    },
    "executionInfo": {
     "elapsed": 194704,
     "status": "ok",
     "timestamp": 1733407556173,
     "user": {
      "displayName": "Phuong Nguyen",
      "userId": "11974806599025701743"
     },
     "user_tz": -420
    },
    "id": "6g-24Ot811q5",
    "outputId": "d032acdd-fc56-4872-8eaa-d51ed0a8fa53"
   },
   "outputs": [
    {
     "name": "stdout",
     "output_type": "stream",
     "text": [
      "| epoch   1 |    50/  211 batches | accuracy    0.715\n",
      "| epoch   1 |   100/  211 batches | accuracy    0.890\n",
      "| epoch   1 |   150/  211 batches | accuracy    0.920\n",
      "| epoch   1 |   200/  211 batches | accuracy    0.939\n",
      "-----------------------------------------------------------\n",
      "| End of epoch   1 | Time 18.39s | Train Accuracy    0.460 | Train Loss    0.947| Valid Accuracy    0.188 | Valid Loss    0.948\n",
      "-----------------------------------------------------------\n"
     ]
    },
    {
     "name": "stderr",
     "output_type": "stream",
     "text": [
      "<ipython-input-28-828fe5ae2987>:55: FutureWarning: You are using `torch.load` with `weights_only=False` (the current default value), which uses the default pickle module implicitly. It is possible to construct malicious pickle data which will execute arbitrary code during unpickling (See https://github.com/pytorch/pytorch/blob/main/SECURITY.md#untrusted-models for more details). In a future release, the default value for `weights_only` will be flipped to `True`. This limits the functions that could be executed during unpickling. Arbitrary objects will no longer be allowed to be loaded via this mode unless they are explicitly allowlisted by the user via `torch.serialization.add_safe_globals`. We recommend you start setting `weights_only=True` for any use case where you don't have full control of the loaded file. Please open an issue on GitHub for any issues related to this experimental feature.\n",
      "  lenet_model.load_state_dict(torch.load(save_model + '/lenet_model.pt'))\n"
     ]
    },
    {
     "name": "stdout",
     "output_type": "stream",
     "text": [
      "| epoch   2 |    50/  211 batches | accuracy    0.952\n",
      "| epoch   2 |   100/  211 batches | accuracy    0.960\n",
      "| epoch   2 |   150/  211 batches | accuracy    0.965\n",
      "| epoch   2 |   200/  211 batches | accuracy    0.967\n",
      "-----------------------------------------------------------\n",
      "| End of epoch   2 | Time 19.64s | Train Accuracy    0.127 | Train Loss    0.966| Valid Accuracy    0.117 | Valid Loss    0.968\n",
      "-----------------------------------------------------------\n",
      "| epoch   3 |    50/  211 batches | accuracy    0.970\n",
      "| epoch   3 |   100/  211 batches | accuracy    0.975\n",
      "| epoch   3 |   150/  211 batches | accuracy    0.974\n",
      "| epoch   3 |   200/  211 batches | accuracy    0.976\n",
      "-----------------------------------------------------------\n",
      "| End of epoch   3 | Time 19.32s | Train Accuracy    0.085 | Train Loss    0.977| Valid Accuracy    0.091 | Valid Loss    0.973\n",
      "-----------------------------------------------------------\n",
      "| epoch   4 |    50/  211 batches | accuracy    0.980\n",
      "| epoch   4 |   100/  211 batches | accuracy    0.979\n",
      "| epoch   4 |   150/  211 batches | accuracy    0.977\n",
      "| epoch   4 |   200/  211 batches | accuracy    0.979\n",
      "-----------------------------------------------------------\n",
      "| End of epoch   4 | Time 19.07s | Train Accuracy    0.070 | Train Loss    0.982| Valid Accuracy    0.084 | Valid Loss    0.977\n",
      "-----------------------------------------------------------\n",
      "| epoch   5 |    50/  211 batches | accuracy    0.980\n",
      "| epoch   5 |   100/  211 batches | accuracy    0.982\n",
      "| epoch   5 |   150/  211 batches | accuracy    0.981\n",
      "| epoch   5 |   200/  211 batches | accuracy    0.981\n",
      "-----------------------------------------------------------\n",
      "| End of epoch   5 | Time 19.88s | Train Accuracy    0.062 | Train Loss    0.987| Valid Accuracy    0.086 | Valid Loss    0.974\n",
      "-----------------------------------------------------------\n",
      "| epoch   6 |    50/  211 batches | accuracy    0.984\n",
      "| epoch   6 |   100/  211 batches | accuracy    0.986\n",
      "| epoch   6 |   150/  211 batches | accuracy    0.982\n",
      "| epoch   6 |   200/  211 batches | accuracy    0.983\n",
      "-----------------------------------------------------------\n",
      "| End of epoch   6 | Time 19.79s | Train Accuracy    0.054 | Train Loss    0.985| Valid Accuracy    0.070 | Valid Loss    0.978\n",
      "-----------------------------------------------------------\n",
      "| epoch   7 |    50/  211 batches | accuracy    0.986\n",
      "| epoch   7 |   100/  211 batches | accuracy    0.984\n",
      "| epoch   7 |   150/  211 batches | accuracy    0.985\n",
      "| epoch   7 |   200/  211 batches | accuracy    0.983\n",
      "-----------------------------------------------------------\n",
      "| End of epoch   7 | Time 19.28s | Train Accuracy    0.051 | Train Loss    0.986| Valid Accuracy    0.070 | Valid Loss    0.980\n",
      "-----------------------------------------------------------\n",
      "| epoch   8 |    50/  211 batches | accuracy    0.986\n",
      "| epoch   8 |   100/  211 batches | accuracy    0.985\n",
      "| epoch   8 |   150/  211 batches | accuracy    0.987\n",
      "| epoch   8 |   200/  211 batches | accuracy    0.983\n",
      "-----------------------------------------------------------\n",
      "| End of epoch   8 | Time 20.03s | Train Accuracy    0.047 | Train Loss     0.99| Valid Accuracy    0.071 | Valid Loss    0.977\n",
      "-----------------------------------------------------------\n",
      "| epoch   9 |    50/  211 batches | accuracy    0.985\n",
      "| epoch   9 |   100/  211 batches | accuracy    0.988\n",
      "| epoch   9 |   150/  211 batches | accuracy    0.987\n",
      "| epoch   9 |   200/  211 batches | accuracy    0.986\n",
      "-----------------------------------------------------------\n",
      "| End of epoch   9 | Time 19.77s | Train Accuracy    0.043 | Train Loss    0.989| Valid Accuracy    0.061 | Valid Loss    0.982\n",
      "-----------------------------------------------------------\n",
      "| epoch  10 |    50/  211 batches | accuracy    0.988\n",
      "| epoch  10 |   100/  211 batches | accuracy    0.988\n",
      "| epoch  10 |   150/  211 batches | accuracy    0.988\n",
      "| epoch  10 |   200/  211 batches | accuracy    0.986\n",
      "-----------------------------------------------------------\n",
      "| End of epoch  10 | Time 19.19s | Train Accuracy    0.042 | Train Loss    0.985| Valid Accuracy    0.081 | Valid Loss    0.976\n",
      "-----------------------------------------------------------\n"
     ]
    }
   ],
   "source": [
    "# Training\n",
    "num_classes = len(train_data.classes)\n",
    "\n",
    "device = torch.device('cuda' if torch.cuda.is_available() else 'cpu')\n",
    "\n",
    "lenet_model = LeNetClassifier(num_classes)\n",
    "lenet_model.to(device)\n",
    "\n",
    "criterion = torch.nn.CrossEntropyLoss()\n",
    "optimizer = optim.Adam(lenet_model.parameters(), lr=0.001, weight_decay=0.0001)\n",
    "\n",
    "num_epochs = 10\n",
    "save_model = './model'\n",
    "# Create the directory if it doesn't exist\n",
    "os.makedirs(save_model, exist_ok=True)\n",
    "\n",
    "train_accs, train_losses = [], []\n",
    "valid_accs, valid_losses = [], []\n",
    "eval_accs, eval_losses = [], []\n",
    "best_loss_eval = 100\n",
    "\n",
    "for epoch in range(1, num_epochs+1):\n",
    "    epoch_start_time = time.time()\n",
    "\n",
    "    # Training\n",
    "    train_acc, train_loss = train(lenet_model, optimizer, criterion, train_dataloader, device, epoch)\n",
    "    train_accs.append(train_acc)\n",
    "    train_losses.append(train_loss)\n",
    "\n",
    "    # Evaluation\n",
    "    eval_acc, eval_loss = evaluate(lenet_model, criterion, valid_dataloader)\n",
    "    eval_accs.append(eval_acc)\n",
    "    eval_losses.append(eval_loss)\n",
    "\n",
    "    # Save best model\n",
    "    if eval_loss < best_loss_eval:\n",
    "        torch.save(lenet_model.state_dict(), save_model + '/lenet_model.pt')\n",
    "\n",
    "    # Print loss, acc end epoch\n",
    "    print(\"-\" *59)\n",
    "    print(\n",
    "        \"| End of epoch {:3d} | Time {:5.2f}s | Train Accuracy {:8.3f} | Train Loss {:8.3}\"\n",
    "        \"| Valid Accuracy {:8.3f} | Valid Loss {:8.3f}\".format(\n",
    "                                                                epoch,\n",
    "                                                                time.time() - epoch_start_time,\n",
    "                                                                train_acc,\n",
    "                                                                train_loss,\n",
    "                                                                eval_acc,\n",
    "                                                                eval_loss\n",
    "                                                                )\n",
    "        )\n",
    "    print(\"-\" *59)\n",
    "\n",
    "    # Load best model\n",
    "    lenet_model.load_state_dict(torch.load(save_model + '/lenet_model.pt'))\n",
    "    lenet_model.eval()"
   ]
  },
  {
   "cell_type": "code",
   "execution_count": null,
   "metadata": {
    "colab": {
     "base_uri": "https://localhost:8080/"
    },
    "executionInfo": {
     "elapsed": 2481,
     "status": "ok",
     "timestamp": 1733407850851,
     "user": {
      "displayName": "Phuong Nguyen",
      "userId": "11974806599025701743"
     },
     "user_tz": -420
    },
    "id": "VAqOzIwEjYxw",
    "outputId": "7457b646-8618-4bef-a769-131dcbeba6b2"
   },
   "outputs": [
    {
     "data": {
      "text/plain": [
       "(0.05197122060926631, 0.9819)"
      ]
     },
     "execution_count": 29,
     "metadata": {},
     "output_type": "execute_result"
    }
   ],
   "source": [
    "# 5. Đánh giá mô hình trên tập test\n",
    "test_data.transform = test_transforms\n",
    "\n",
    "test_dataloader = data.DataLoader(test_data, batch_size=BATCH_SIZE, num_workers=0)\n",
    "\n",
    "test_acc, test_loss = evaluate(lenet_model, criterion, test_dataloader)\n",
    "test_acc, test_loss"
   ]
  },
  {
   "cell_type": "code",
   "execution_count": null,
   "metadata": {
    "id": "mMRxw1iH11yC"
   },
   "outputs": [],
   "source": []
  },
  {
   "cell_type": "code",
   "execution_count": null,
   "metadata": {
    "id": "GJQ8ZA-Ee6hu"
   },
   "outputs": [],
   "source": []
  },
  {
   "cell_type": "code",
   "execution_count": null,
   "metadata": {
    "id": "5OQv0FrXe6k2"
   },
   "outputs": [],
   "source": []
  },
  {
   "cell_type": "code",
   "execution_count": null,
   "metadata": {
    "id": "rKVYkl1Ae6nl"
   },
   "outputs": [],
   "source": []
  }
 ],
 "metadata": {
  "colab": {
   "provenance": []
  },
  "kernelspec": {
   "display_name": "Python 3",
   "name": "python3"
  },
  "language_info": {
   "codemirror_mode": {
    "name": "ipython",
    "version": 3
   },
   "file_extension": ".py",
   "mimetype": "text/x-python",
   "name": "python",
   "nbconvert_exporter": "python",
   "pygments_lexer": "ipython3",
   "version": "3.11.4"
  }
 },
 "nbformat": 4,
 "nbformat_minor": 0
}
