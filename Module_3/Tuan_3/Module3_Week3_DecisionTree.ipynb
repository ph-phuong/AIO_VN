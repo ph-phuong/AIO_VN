{
  "nbformat": 4,
  "nbformat_minor": 0,
  "metadata": {
    "colab": {
      "provenance": []
    },
    "kernelspec": {
      "name": "python3",
      "display_name": "Python 3"
    },
    "language_info": {
      "name": "python"
    }
  },
  "cells": [
    {
      "cell_type": "markdown",
      "source": [
        "## 1. Decision Tree for Classification\n"
      ],
      "metadata": {
        "id": "tcAtr2AHbZnP"
      }
    },
    {
      "cell_type": "code",
      "execution_count": 1,
      "metadata": {
        "id": "H8CTBrIBJD1u"
      },
      "outputs": [],
      "source": [
        "# Câu 8 : Phân loại trên bộ dữ liệu Iris dựa vào Decision Tree:\n",
        "# Import libraries\n",
        "import numpy as np\n",
        "import pandas as pd\n",
        "import matplotlib as plt\n",
        "from sklearn import datasets\n",
        "from sklearn.model_selection import train_test_split\n",
        "from sklearn.metrics import accuracy_score\n",
        "from sklearn.tree import DecisionTreeClassifier"
      ]
    },
    {
      "cell_type": "code",
      "source": [
        "# Paragraph C: Load data\n",
        "iris_X, iris_y = datasets.load_iris(return_X_y=True)\n",
        "# Split train:test = 8:2\n",
        "X_train, X_test, y_train, y_test = train_test_split(iris_X, iris_Y, test_size=0.2, random_state=42)\n",
        "\n",
        "# Paragraph B: Define model\n",
        "df_classifier = DecisionTreeClassifier()\n",
        "\n",
        "# Paragraph A : Train\n",
        "dt_classifier.fit(X_train, y_train)\n",
        "\n",
        "# Paragraph D : Predict and Evaluate test set\n",
        "y_pred = dt_classifier(X_test)\n",
        "accuracy_score(y_test, y_pred)"
      ],
      "metadata": {
        "id": "jifGCEVEQgLf"
      },
      "execution_count": null,
      "outputs": []
    },
    {
      "cell_type": "code",
      "source": [],
      "metadata": {
        "id": "b4-QA8BiQgRX"
      },
      "execution_count": null,
      "outputs": []
    },
    {
      "cell_type": "markdown",
      "source": [
        "## 2. Decision Tree for Regression"
      ],
      "metadata": {
        "id": "a0fS94gqzNtH"
      }
    },
    {
      "cell_type": "code",
      "source": [
        "\n",
        "# Câu 11 : phân loại trên bộ dữ liệu CPU Machine dựa vào Decision Tree Regressor\n",
        "# Import libraries\n",
        "from sklearn.datasets import fetch_openml\n",
        "from sklearn.model_selection import train_test_split\n",
        "from sklearn.tree import DecisionTreeRegressor\n",
        "from sklearn.metrics import mean_squared_error"
      ],
      "metadata": {
        "id": "9XdW4kltQgWn"
      },
      "execution_count": null,
      "outputs": []
    },
    {
      "cell_type": "code",
      "source": [
        "# Paragraph C : Load dataset\n",
        "machine_cpu = fetch_openml(name='machine-cpu')\n",
        "machine_data = machine_cpu.data\n",
        "machine_labels = machine_cpu.target\n",
        "# Split train:test = 8:2\n",
        "X_train, X_test, y_train, y_test = train_test_split(machine_data, machine_labels, test_size=0.2, random_state=42)\n",
        "\n",
        "# Paragraph B : Define model\n",
        "tree_regressor = DecisionTreeRegressor()\n",
        "\n",
        "# Paragraph A : Train\n",
        "tree_reg.fit(X_train, y_train)\n",
        "\n",
        "# Paragraph D : Predict and Evaluate test set\n",
        "y_pred = tree_reg.predict(X_test)\n",
        "mean_squared_error(y_test, y_pred)"
      ],
      "metadata": {
        "id": "JGDY8k5-4deg"
      },
      "execution_count": null,
      "outputs": []
    }
  ]
}