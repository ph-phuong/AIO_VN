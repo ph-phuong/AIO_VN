{
 "cells": [
  {
   "cell_type": "code",
   "execution_count": 1,
   "id": "0211c9e5",
   "metadata": {},
   "outputs": [
    {
     "name": "stdout",
     "output_type": "stream",
     "text": [
      "a:  [0 1 2 3 4 5 6 7 8 9]\n",
      "b:  [1 2 3 4 5 6 7 8 9]\n",
      "c:  [0 1 2 3 4 5 6 7 8]\n",
      "d:  [ 1  2  3  4  5  6  7  8  9 10]\n"
     ]
    }
   ],
   "source": [
    "# Câu 1: Câu nào sau đây là đúng để tạo mảng 1 chiều từ 0 đến 9\n",
    "\n",
    "import numpy as np\n",
    "arr1_1 = np. arange (0, 10, 1)\n",
    "arr1_2 = np. arange (1, 10, 1)\n",
    "arr1_3 = np. arange (0, 9, 1)\n",
    "arr1_4 = np. arange (1, 11, 1)\n",
    "\n",
    "print('a: ', arr1_1)\n",
    "print('b: ', arr1_2)\n",
    "print('c: ', arr1_3)\n",
    "print('d: ', arr1_4)"
   ]
  },
  {
   "cell_type": "code",
   "execution_count": 2,
   "id": "595c4432",
   "metadata": {},
   "outputs": [
    {
     "name": "stdout",
     "output_type": "stream",
     "text": [
      "a: \n",
      " [[ True  True  True]\n",
      " [ True  True  True]\n",
      " [ True  True  True]]\n",
      "b: \n",
      " [[ True  True  True]\n",
      " [ True  True  True]\n",
      " [ True  True  True]]\n",
      "c: \n",
      " [[ True  True  True]\n",
      " [ True  True  True]\n",
      " [ True  True  True]]\n"
     ]
    }
   ],
   "source": [
    "# Câu 2 : Cách tạo một mảng boolean 3x3 với tất cả giá trị là True\n",
    "\n",
    "arr2_1 = np. ones ((3 ,3) ) > 0\n",
    "arr2_2 = np. ones ((3 ,3) , dtype = bool )\n",
    "arr2_3 = np. full ((3 ,3) , fill_value =True , dtype = bool )\n",
    "\n",
    "print('a: \\n', arr2_1)\n",
    "print('b: \\n', arr2_2)\n",
    "print('c: \\n', arr2_3)"
   ]
  },
  {
   "cell_type": "code",
   "execution_count": 5,
   "id": "618f6e40",
   "metadata": {},
   "outputs": [
    {
     "name": "stdout",
     "output_type": "stream",
     "text": [
      "[1 3 5 7 9]\n"
     ]
    }
   ],
   "source": [
    "# Câu 3:\n",
    "\n",
    "arr3 = np.arange(0, 10)\n",
    "print(arr[arr3 % 2 == 1])"
   ]
  },
  {
   "cell_type": "code",
   "execution_count": 8,
   "id": "9330e6d4",
   "metadata": {},
   "outputs": [
    {
     "name": "stdout",
     "output_type": "stream",
     "text": [
      "[ 0 -1  2 -1  4 -1  6 -1  8 -1]\n"
     ]
    }
   ],
   "source": [
    "# Câu 4:\n",
    "\n",
    "arr4 = np.arange(0, 10)\n",
    "arr4[arr4 % 2 == 1] = -1 # Thay thế những số không chia hết cho 2 là -1\n",
    "print(arr4)"
   ]
  },
  {
   "cell_type": "code",
   "execution_count": 9,
   "id": "11ef4711",
   "metadata": {},
   "outputs": [
    {
     "name": "stdout",
     "output_type": "stream",
     "text": [
      "[[0 1 2 3 4]\n",
      " [5 6 7 8 9]]\n"
     ]
    }
   ],
   "source": [
    "# Câu 5:\n",
    "\n",
    "arr5 = np.arange(10)\n",
    "arr_2d5 = arr5.reshape(2, -1) # Định hình lại thành mảng 2 chiều với 2 hàng và số cột tự động tính toán\n",
    "print(arr_2d5)"
   ]
  },
  {
   "cell_type": "code",
   "execution_count": 3,
   "id": "3fe05653",
   "metadata": {},
   "outputs": [
    {
     "name": "stdout",
     "output_type": "stream",
     "text": [
      "Result: \n",
      " [[0 1 2 3 4]\n",
      " [5 6 7 8 9]\n",
      " [1 1 1 1 1]\n",
      " [1 1 1 1 1]]\n"
     ]
    }
   ],
   "source": [
    "# Câu 6:\n",
    "\n",
    "arr6_1 = np.arange(10).reshape(2, -1)\n",
    "arr6_2 = np.repeat(1, 10).reshape(2, -1)\n",
    "c6 = np.concatenate([arr6_1, arr6_2], axis = 0)\n",
    "print(\"Result: \\n\", c6)"
   ]
  },
  {
   "cell_type": "code",
   "execution_count": 4,
   "id": "63637ce3",
   "metadata": {},
   "outputs": [
    {
     "name": "stdout",
     "output_type": "stream",
     "text": [
      "C =  [[0 1 2 3 4 1 1 1 1 1]\n",
      " [5 6 7 8 9 1 1 1 1 1]]\n"
     ]
    }
   ],
   "source": [
    "# Câu 7:\n",
    "\n",
    "arr7_1 = np.arange(10).reshape(2, -1)\n",
    "arr7_2 = np.repeat(1, 10).reshape(2, -1)\n",
    "c7 = np.concatenate([arr7_1, arr7_2], axis =1)\n",
    "print(\"C = \", c7)"
   ]
  },
  {
   "cell_type": "code",
   "execution_count": 5,
   "id": "91eb1619",
   "metadata": {},
   "outputs": [
    {
     "name": "stdout",
     "output_type": "stream",
     "text": [
      "[1 1 1 2 2 2 3 3 3]\n",
      "[1 2 3 1 2 3 1 2 3]\n"
     ]
    }
   ],
   "source": [
    "# Câu 8:\n",
    "\n",
    "arr8 = np.array([1, 2, 3])\n",
    "print(np.repeat(arr8, 3))\n",
    "print(np.tile(arr8, 3))"
   ]
  },
  {
   "cell_type": "code",
   "execution_count": 6,
   "id": "39103280",
   "metadata": {},
   "outputs": [
    {
     "name": "stdout",
     "output_type": "stream",
     "text": [
      "result  [ 6  9 10]\n"
     ]
    }
   ],
   "source": [
    "# Câu 9:\n",
    "\n",
    "a9 = np.array([2, 6, 1, 9, 10, 3, 27])\n",
    "index = np.where((a9 >= 5) & (a9 <= 10))\n",
    "print(\"result \", a9[index])"
   ]
  },
  {
   "cell_type": "code",
   "execution_count": 7,
   "id": "f69b852c",
   "metadata": {},
   "outputs": [
    {
     "name": "stdout",
     "output_type": "stream",
     "text": [
      "[ 6.  7.  9.  8.  9.  7. 11.]\n"
     ]
    }
   ],
   "source": [
    "# Câu 10:\n",
    "\n",
    "def maxx(x, y):\n",
    "    if x >= y:\n",
    "        return x\n",
    "    else:\n",
    "        return y\n",
    "    \n",
    "a10 = np.array([5, 7, 9, 8, 6, 4, 5])\n",
    "b10 = np.array([6, 3, 4, 8, 9, 7, 11])\n",
    "\n",
    "pair_max = np.vectorize(maxx, otypes=[float])\n",
    "print(pair_max(a10, b10))"
   ]
  },
  {
   "cell_type": "code",
   "execution_count": 9,
   "id": "da26af6c",
   "metadata": {},
   "outputs": [
    {
     "name": "stdout",
     "output_type": "stream",
     "text": [
      "Result:  [6 7 9 8 9 7 5]\n"
     ]
    }
   ],
   "source": [
    "# Câu 11:\n",
    "\n",
    "a11 = np.array([5, 7, 9, 8, 6, 4, 5])\n",
    "b11 = np.array([6, 3, 4, 8, 9, 7, 1])\n",
    "print('Result: ', np.where(a11<b11, b11, a11))"
   ]
  },
  {
   "cell_type": "code",
   "execution_count": 15,
   "id": "9b8ba4af",
   "metadata": {},
   "outputs": [
    {
     "name": "stderr",
     "output_type": "stream",
     "text": [
      "Downloading...\n",
      "From: https://drive.google.com/uc?id=1i9dqan21DjQoG5Q_VEvm0LrVwAlXD0vB\n",
      "To: d:\\Vi_Tinh\\GIAO_TRINH\\AIO\\Ho_tro_Code\\AIO_VN\\Module_2\\Tuan_1\\dog.jpeg\n",
      "\n",
      "  0%|          | 0.00/33.7k [00:00<?, ?B/s]\n",
      "100%|██████████| 33.7k/33.7k [00:00<00:00, 482kB/s]\n"
     ]
    },
    {
     "data": {
      "text/plain": [
       "102.5"
      ]
     },
     "execution_count": 15,
     "metadata": {},
     "output_type": "execute_result"
    }
   ],
   "source": [
    "# Câu 12: Chuyển ảnh màu sang ảnh xám dựa vào phương pháp Lightness\n",
    "\n",
    "!gdown 1i9dqan21DjQoG5Q_VEvm0LrVwAlXD0vB\n",
    "\n",
    "import matplotlib.image as mpimg\n",
    "\n",
    "img = mpimg.imread(\"./dog.jpeg\")\n",
    "gray_img_01 = (np.max(img, axis=2) + np.min(img, axis=2))/ 2\n",
    "gray_img_01[0, 0]"
   ]
  },
  {
   "cell_type": "code",
   "execution_count": 16,
   "id": "cdd5905d",
   "metadata": {},
   "outputs": [
    {
     "data": {
      "text/plain": [
       "107.66666666666667"
      ]
     },
     "execution_count": 16,
     "metadata": {},
     "output_type": "execute_result"
    }
   ],
   "source": [
    "# Câu 13: Chuyển ảnh màu sang ảnh xám dựa vào phương pháp Average\n",
    "\n",
    "import matplotlib.image as mpimg\n",
    "img = mpimg.imread(\"./dog.jpeg\")\n",
    "gray_img_02 = np.mean(img, axis=2)\n",
    "gray_img_02[0, 0]"
   ]
  },
  {
   "cell_type": "code",
   "execution_count": 18,
   "id": "9705b146",
   "metadata": {},
   "outputs": [
    {
     "data": {
      "text/plain": [
       "126.22999999999999"
      ]
     },
     "execution_count": 18,
     "metadata": {},
     "output_type": "execute_result"
    }
   ],
   "source": [
    "# Câu 14: Chuyển ảnh màu sang ảnh xám dựa vào phương pháp Luminosity\n",
    "\n",
    "import matplotlib.image as mpimg\n",
    "img = mpimg.imread(\"./dog.jpeg\")\n",
    "gray_img_03 = 0.21 * img[:, :, 0] + 0.72 * img[:, :, 1] + 0.07 * img[:, :, 2]\n",
    "gray_img_03[0, 0]"
   ]
  },
  {
   "cell_type": "code",
   "execution_count": 21,
   "id": "c29e4375",
   "metadata": {},
   "outputs": [
    {
     "name": "stderr",
     "output_type": "stream",
     "text": [
      "Downloading...\n",
      "From: https://drive.google.com/uc?id=1iA0WmVfW88HyJvTBSQDI5vesf-pgKabq\n",
      "To: d:\\Vi_Tinh\\GIAO_TRINH\\AIO\\Ho_tro_Code\\AIO_VN\\Module_2\\Tuan_1\\advertising.csv\n",
      "\n",
      "  0%|          | 0.00/4.06k [00:00<?, ?B/s]\n",
      "100%|██████████| 4.06k/4.06k [00:00<00:00, 4.06MB/s]\n"
     ]
    }
   ],
   "source": [
    "!gdown 1iA0WmVfW88HyJvTBSQDI5vesf-pgKabq\n",
    "\n",
    "import pandas as pd\n",
    "df = pd.read_csv('./advertising.csv')\n",
    "\n",
    "data = df.to_numpy()\n"
   ]
  },
  {
   "cell_type": "code",
   "execution_count": 26,
   "id": "09d2dc0a",
   "metadata": {},
   "outputs": [
    {
     "name": "stdout",
     "output_type": "stream",
     "text": [
      "Max:  27.0 Index:  175\n"
     ]
    }
   ],
   "source": [
    "# Câu 15:Lấy giá trị lớn nhất và chỉ mục tương ứng của nó trên cột Sales\n",
    "\n",
    "max_sale = data[:,3].max()\n",
    "max_sale_index = data[:,3].argmax()\n",
    "print('Max: ', max_sale, 'Index: ', max_sale_index)"
   ]
  },
  {
   "cell_type": "code",
   "execution_count": 27,
   "id": "dcd51e06",
   "metadata": {},
   "outputs": [
    {
     "name": "stdout",
     "output_type": "stream",
     "text": [
      "Average of TV:  147.0425\n"
     ]
    }
   ],
   "source": [
    "# Câu 16: Giá trị trung bình của cột TV\n",
    "\n",
    "average_tv = data[:, df.columns.get_loc('TV')].mean()\n",
    "print('Average of TV: ', average_tv)"
   ]
  },
  {
   "cell_type": "code",
   "execution_count": 32,
   "id": "87263879",
   "metadata": {},
   "outputs": [
    {
     "name": "stdout",
     "output_type": "stream",
     "text": [
      "Count of value larger or equal 20 in Sales is:  40\n"
     ]
    }
   ],
   "source": [
    "# Câu 17: Số lượng bản ghi có giá trị tại cột Sales lớn hơn hoặc bằng 20\n",
    "\n",
    "greater_20_sale_count = np.count_nonzero(data[:, 3] >= 20)\n",
    "print('Count of value larger or equal 20 in Sales is: ', greater_20_sale_count)"
   ]
  },
  {
   "cell_type": "code",
   "execution_count": 40,
   "id": "730967ec",
   "metadata": {},
   "outputs": [
    {
     "name": "stdout",
     "output_type": "stream",
     "text": [
      "Average of value larger or equal 15 in Sales is:  26.22293577981651\n"
     ]
    }
   ],
   "source": [
    "# Câu 18:Tính giá trị trung bình của cột Radio thoả mãn điều kiện giá trị tương ứng trên cột Sales lớn hơn hoặc bằng 15\n",
    "\n",
    "greater_15_sales = data[:, 3] >= 15\n",
    "greater_20_sales_average = np.mean(data[larger_15_sales, 1])\n",
    "print('Average of value greater or equal 15 in Sales is: ', greater_20_sales_average)"
   ]
  },
  {
   "cell_type": "code",
   "execution_count": 42,
   "id": "bf8aa19e",
   "metadata": {},
   "outputs": [
    {
     "name": "stdout",
     "output_type": "stream",
     "text": [
      "Sum of sale with value of Newspaper greater than average of Newspaper:  1405.1\n"
     ]
    }
   ],
   "source": [
    "# Câu 19: Tính tổng các hàng của cột Sales với điều kiện giá trị Newspaper lớn hơn giá trị trung bình của cột Newspaper\n",
    "\n",
    "news_mean_greater = data[:, 2] > np.mean(data[:, 2])\n",
    "sales_sum = np.sum(data[news_mean_greater, 3])\n",
    "print('Sum of sale with value of Newspaper greater than average of Newspaper: ', sales_sum)"
   ]
  },
  {
   "cell_type": "code",
   "execution_count": 46,
   "id": "724470d8",
   "metadata": {},
   "outputs": [
    {
     "name": "stdout",
     "output_type": "stream",
     "text": [
      "Scores[7:10]:  ['Bad' 'Bad' 'Good']\n"
     ]
    }
   ],
   "source": [
    "# Câu 20:\n",
    "# Gọi giá trị trung bình của cột Sales là A\n",
    "# Tạo ra mảng mới scores chứa các giá trị Good, Average và Bad sao cho: \n",
    "# nếu giá trị hiện tại > A => giá trị trong mảng mới là Good, < A thì sẽ là Bad và = A sẽ là Average. \n",
    "# Sau đó in ra kết quả scores[7:10]\n",
    "\n",
    "A = np.mean(data[:, 3])\n",
    "scores20 = np.where(data[:, 3] > A, 'Good', np.where(data[:, 3] < A, 'Bad', 'Average'))\n",
    "\n",
    "print('Scores[7:10]: ', scores20[7:10])"
   ]
  },
  {
   "cell_type": "code",
   "execution_count": 49,
   "id": "929d4101",
   "metadata": {},
   "outputs": [
    {
     "name": "stdout",
     "output_type": "stream",
     "text": [
      "Scores[7:10]:  ['Bad' 'Bad' 'Good']\n"
     ]
    }
   ],
   "source": [
    "# Câu 21:\n",
    "# Gọi giá trị trên cột Sales gần nhất với giá trị trung bình cũng chính cột Sales là A. \n",
    "# Tạo ra mảng mới scores chứa các giá trị Good, Average và Bad sao cho: \n",
    "# nếu giá trị hiện tại > A => giá trị trong mảng mới là Good, < A thì sẽ là Bad và = A sẽ là Average. \n",
    "# Sau đó in ra kết quả scores[7:10]\n",
    "\n",
    "average_sale = np.mean(data[:, 3])\n",
    "A = data[np.abs(data[:, 3] - average_sale).argmin(), 3]\n",
    "scores21 = np.where(data[:, 3] > A, 'Good', np.where(data[:, 3] < A, 'Bad', 'Average'))\n",
    "print('Scores[7:10]: ', scores21[7:10])"
   ]
  }
 ],
 "metadata": {
  "kernelspec": {
   "display_name": "Python 3 (ipykernel)",
   "language": "python",
   "name": "python3"
  },
  "language_info": {
   "codemirror_mode": {
    "name": "ipython",
    "version": 3
   },
   "file_extension": ".py",
   "mimetype": "text/x-python",
   "name": "python",
   "nbconvert_exporter": "python",
   "pygments_lexer": "ipython3",
   "version": "3.11.4"
  }
 },
 "nbformat": 4,
 "nbformat_minor": 5
}
