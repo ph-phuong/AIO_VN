{
 "cells": [
  {
   "cell_type": "code",
   "execution_count": null,
   "id": "9c0626f6",
   "metadata": {},
   "outputs": [],
   "source": []
  },
  {
   "attachments": {},
   "cell_type": "markdown",
   "id": "c851ed1e",
   "metadata": {},
   "source": [
    "![](4.png)"
   ]
  },
  {
   "cell_type": "code",
   "execution_count": 16,
   "id": "6dede195",
   "metadata": {},
   "outputs": [
    {
     "name": "stdout",
     "output_type": "stream",
     "text": [
      "[['Sunny' 'Hot' 'High' 'Weak' 'no']\n",
      " ['Sunny' 'Hot' 'High' 'Strong' 'no']\n",
      " ['Overcast' 'Hot' 'High' 'Weak' 'yes']\n",
      " ['Rain' 'Mild' 'High' 'Weak' 'yes']\n",
      " ['Rain' 'Cool' 'Normal' 'Weak' 'yes']\n",
      " ['Rain' 'Cool' 'Normal' 'Strong' 'no']\n",
      " ['Overcast' 'Cool' 'Normal' 'Strong' 'yes']\n",
      " ['Overcast' 'Mild' 'High' 'Weak' 'no']\n",
      " ['Sunny' 'Cool' 'Normal' 'Weak' 'yes']\n",
      " ['Rain' 'Mild' 'Normal' 'Weak' 'yes']]\n"
     ]
    }
   ],
   "source": [
    "# 4.1\n",
    "import numpy as np # type: ignore\n",
    "\n",
    "def create_train_data():\n",
    "    data=[['Sunny', 'Hot', 'High', 'Weak', 'no'],\n",
    "          ['Sunny', 'Hot', 'High', 'Strong', 'no'],\n",
    "          ['Overcast','Hot', 'High', 'Weak', 'yes'],\n",
    "          ['Rain','Mild', 'High', 'Weak', 'yes'],\n",
    "          ['Rain','Cool', 'Normal', 'Weak', 'yes'],\n",
    "          ['Rain','Cool', 'Normal', 'Strong', 'no'],\n",
    "          ['Overcast','Cool', 'Normal', 'Strong', 'yes'],\n",
    "          ['Overcast','Mild', 'High', 'Weak', 'no'],\n",
    "          ['Sunny','Cool', 'Normal', 'Weak', 'yes'],\n",
    "          ['Rain','Mild', 'Normal', 'Weak', 'yes']\n",
    "          ]\n",
    "    return np.array(data)\n",
    "\n",
    "train_data = create_train_data()\n",
    "print(train_data)"
   ]
  },
  {
   "cell_type": "code",
   "execution_count": 17,
   "id": "4b6bc0d6",
   "metadata": {},
   "outputs": [
    {
     "name": "stdout",
     "output_type": "stream",
     "text": [
      "P(play tenis = 'No') :  0.4\n",
      "P(play tenis = 'Yes'):  0.6\n"
     ]
    }
   ],
   "source": [
    "# 4.2\n",
    "def compute_prior_probablity(train_data):\n",
    "    y_unique = ['no', 'yes']\n",
    "    prior_probability = np.zeros(len(y_unique))\n",
    "    for i in range(len(y_unique)):\n",
    "        prior_probability[i] = len(np.nonzero(train_data[:, 4] == y_unique[i])[0])/len(train_data)\n",
    "    return prior_probability\n",
    "\n",
    "prior_probability = compute_prior_probablity(train_data)\n",
    "print(\"P(play tenis = 'No') : \", prior_probability[0])\n",
    "print(\"P(play tenis = 'Yes'): \", prior_probability[1])"
   ]
  },
  {
   "cell_type": "code",
   "execution_count": 4,
   "id": "c6ddae91",
   "metadata": {},
   "outputs": [],
   "source": [
    "# 4.3\n",
    "def compute_conditional_probability(train_data):\n",
    "    y_unique = ['no', 'yes']\n",
    "    conditional_probability = []\n",
    "    list_x_name = []\n",
    "    \n",
    "    for i in range(0, train_data.shape[1] - 1):\n",
    "        x_unique = np.unique(train_data[:, i])\n",
    "        list_x_name.append(x_unique)\n",
    "        \n",
    "        x_conditional_probability = np.zeros((len(y_unique), len(x_unique)))\n",
    "        for j in range(len(y_unique)):\n",
    "            for k in range(len(x_unique)):\n",
    "                x_conditional_probability[j, k] = len(np.nonzero((train_data[:, i] == x_unique[k]) & (train_data[:, 4] == y_unique[j]))[0]) / len(np.nonzero(train_data[:, 4] == y_unique[j])[0])\n",
    "        \n",
    "        conditional_probability.append(x_conditional_probability)\n",
    "        \n",
    "    return conditional_probability, list_x_name\n"
   ]
  },
  {
   "cell_type": "code",
   "execution_count": 5,
   "id": "a372d2dc",
   "metadata": {},
   "outputs": [
    {
     "name": "stdout",
     "output_type": "stream",
     "text": [
      "x1 =  ['Overcast' 'Rain' 'Sunny']\n",
      "x2 =  ['Cool' 'Hot' 'Mild']\n",
      "x3 =  ['High' 'Normal']\n",
      "x4 =  ['Strong' 'Weak']\n"
     ]
    }
   ],
   "source": [
    "# Câu 15\n",
    "train_data = create_train_data()\n",
    "_, list_x_name = compute_conditional_probability(train_data)\n",
    "print(\"x1 = \", list_x_name[0])\n",
    "print(\"x2 = \", list_x_name[1])\n",
    "print(\"x3 = \", list_x_name[2])\n",
    "print(\"x4 = \", list_x_name[3])"
   ]
  },
  {
   "cell_type": "code",
   "execution_count": 13,
   "id": "145b4fc0",
   "metadata": {},
   "outputs": [],
   "source": [
    "# 4.4\n",
    "def get_index_from_value(feature_name, list_features):\n",
    "    return np.nonzero(list_features == feature_name)[0][0]"
   ]
  },
  {
   "cell_type": "code",
   "execution_count": 14,
   "id": "5d87a16b",
   "metadata": {},
   "outputs": [
    {
     "name": "stdout",
     "output_type": "stream",
     "text": [
      "0 1 2\n"
     ]
    }
   ],
   "source": [
    "# Câu 16\n",
    "train_data = create_train_data()\n",
    "_, list_x_name = compute_conditional_probability(train_data)\n",
    "outlook = list_x_name[0]\n",
    "\n",
    "i1 = get_index_from_value('Overcast', outlook)\n",
    "i2 = get_index_from_value('Rain', outlook)\n",
    "i3 = get_index_from_value('Sunny', outlook)\n",
    "\n",
    "print(i1, i2, i3)"
   ]
  },
  {
   "cell_type": "code",
   "execution_count": 37,
   "id": "2c7bf1bd",
   "metadata": {},
   "outputs": [
    {
     "name": "stdout",
     "output_type": "stream",
     "text": [
      "P('Outlook'='Sunny'|'Play Tennis'='Yes') =  0.17\n"
     ]
    }
   ],
   "source": [
    "# Câu 17\n",
    "train_data = create_train_data()\n",
    "conditional_probability, list_x_name = compute_conditional_probability(train_data)\n",
    "#compute P(\"Outlook\"=\"Sunny\"|\"Play Tennis\"=\"Yes\")\n",
    "x1 = get_index_from_value('Sunny', list_x_name[0])\n",
    "print(\"P('Outlook'='Sunny'|'Play Tennis'='Yes') = \", np.round(conditional_probability[0][1, x1], 2))"
   ]
  },
  {
   "cell_type": "code",
   "execution_count": 40,
   "id": "fb3b97d6",
   "metadata": {},
   "outputs": [
    {
     "name": "stdout",
     "output_type": "stream",
     "text": [
      "P('Outlook'='Sunny'|Play Tennis'='No') =  0.5\n"
     ]
    }
   ],
   "source": [
    "# Câu 18\n",
    "train_data = create_train_data()\n",
    "conditional_probability, list_x_name = compute_conditional_probability(train_data)\n",
    "# Compute P(\" Outlook \"=\" Sunny \"| Play Tennis \"=\" No \")\n",
    "x1 = get_index_from_value(\"Sunny\", list_x_name[0])\n",
    "print(\"P('Outlook'='Sunny'|Play Tennis'='No') = \", np.round(conditional_probability[0][0, x1] ,2))"
   ]
  },
  {
   "cell_type": "code",
   "execution_count": 10,
   "id": "e2e7fa24",
   "metadata": {},
   "outputs": [],
   "source": [
    "# Train Naive Bayes Model\n",
    "\n",
    "def train_naive_bayes(train_data):\n",
    "    # Step 1: Calculate Prior Probability\n",
    "    y_unique = ['no', 'yes']\n",
    "    prior_probability = compute_prior_probablity(train_data)\n",
    "\n",
    "# Step 2: Calculate Conditional Probability\n",
    "    conditional_probability, list_x_name = compute_conditional_probability(train_data)\n",
    "\n",
    "    return prior_probability, conditional_probability, list_x_name"
   ]
  },
  {
   "attachments": {},
   "cell_type": "markdown",
   "id": "e34227ff",
   "metadata": {},
   "source": [
    "![](4.6.png)"
   ]
  },
  {
   "cell_type": "code",
   "execution_count": 11,
   "id": "7b382154",
   "metadata": {},
   "outputs": [],
   "source": [
    "# Prediction\n",
    "\n",
    "def prediction_play_tennis(X, list_x_name, prior_probabilit, conditional_probabilit):\n",
    "\n",
    "    x1 = get_index_from_value(X[0], list_x_name[0])\n",
    "    x2 = get_index_from_value(X[1], list_x_name[1])\n",
    "    x3 = get_index_from_value(X[2], list_x_name[2])\n",
    "    x4 = get_index_from_value(X[3], list_x_name[3])\n",
    "\n",
    "    p0=prior_probability[0] \\\n",
    "                            *conditional_probability[0][0,x1] \\\n",
    "                            *conditional_probability[1][0,x2] \\\n",
    "                            *conditional_probability[2][0,x3] \\\n",
    "                            *conditional_probability[3][0,x4]\n",
    "\n",
    "    p1=prior_probability[1]\\\n",
    "                            *conditional_probability[0][1,x1]\\\n",
    "                            *conditional_probability[1][1,x2]\\\n",
    "                            *conditional_probability[2][1,x3]\\\n",
    "                            *conditional_probability[3][1,x4]\n",
    "\n",
    "    # your code here ***********************\n",
    "\n",
    "    if p0 > p1:\n",
    "        y_pred = 0\n",
    "    else :\n",
    "        y_pred = 1\n",
    "\n",
    "    return y_pred"
   ]
  },
  {
   "cell_type": "code",
   "execution_count": 43,
   "id": "71bb47ba",
   "metadata": {},
   "outputs": [
    {
     "name": "stdout",
     "output_type": "stream",
     "text": [
      "Ad should not go!\n"
     ]
    }
   ],
   "source": [
    "# Câu 19\n",
    "X = ['Sunny', 'Cool', 'High', 'Strong']\n",
    "data = create_train_data()\n",
    "prior_probability, conditional_probability, list_x_name = train_naive_bayes(data)\n",
    "pred = prediction_play_tennis(X, list_x_name, prior_probability, conditional_probability)\n",
    "\n",
    "if( pred ):\n",
    "    print (\"Ad should go!\")\n",
    "else :\n",
    "    print (\"Ad should not go!\")"
   ]
  },
  {
   "cell_type": "markdown",
   "id": "51c07949",
   "metadata": {},
   "source": []
  },
  {
   "cell_type": "code",
   "execution_count": null,
   "id": "54f06feb",
   "metadata": {},
   "outputs": [],
   "source": []
  }
 ],
 "metadata": {
  "kernelspec": {
   "display_name": "Python 3 (ipykernel)",
   "language": "python",
   "name": "python3"
  },
  "language_info": {
   "codemirror_mode": {
    "name": "ipython",
    "version": 3
   },
   "file_extension": ".py",
   "mimetype": "text/x-python",
   "name": "python",
   "nbconvert_exporter": "python",
   "pygments_lexer": "ipython3",
   "version": "3.11.4"
  }
 },
 "nbformat": 4,
 "nbformat_minor": 5
}
